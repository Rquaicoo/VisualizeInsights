{
  "nbformat": 4,
  "nbformat_minor": 0,
  "metadata": {
    "colab": {
      "provenance": []
    },
    "kernelspec": {
      "name": "python3",
      "display_name": "Python 3"
    },
    "language_info": {
      "name": "python"
    }
  },
  "cells": [
    {
      "cell_type": "markdown",
      "source": [
        "Solar Flare: is an intense localized eruption of electromagnetic radiation in the Sun's atmosphere."
      ],
      "metadata": {
        "id": "HfH01wTj0lbU"
      }
    },
    {
      "cell_type": "code",
      "execution_count": null,
      "metadata": {
        "id": "xp7LDBu-jLgl"
      },
      "outputs": [],
      "source": [
        "import pandas as pd\n",
        "from sklearn.model_selection import train_test_split\n",
        "from sklearn.linear_model import LinearRegression\n",
        "import matplotlib.pyplot as plt\n",
        "from scipy.stats import zscore\n",
        "import numpy as np\n",
        "from sklearn.model_selection import train_test_split\n",
        "import statsmodels.api as sm\n",
        "import scipy.stats as stats\n",
        "from sklearn.feature_selection import SelectKBest, f_regression\n",
        "from sklearn.preprocessing import LabelEncoder\n",
        "from imblearn.over_sampling import SMOTE\n",
        "from sklearn.linear_model import LinearRegression\n",
        "from sklearn.model_selection import KFold\n",
        "from sklearn.model_selection import cross_val_score\n",
        "from sklearn.model_selection import LeaveOneOut\n",
        "from sklearn.tree import DecisionTreeRegressor"
      ]
    },
    {
      "cell_type": "code",
      "source": [
        "# Step 1: Load the dataset\n",
        "file_path = '/content/flare.data2'\n",
        "with open(file_path, 'r') as file:\n",
        "    lines = file.readlines()\n",
        "\n",
        "# Step 2: Extract attribute columns\n",
        "attribute_columns = [line.strip().split(' ') for line in lines]\n",
        "data = pd.DataFrame(attribute_columns)"
      ],
      "metadata": {
        "id": "PM8mgFyaxegI"
      },
      "execution_count": null,
      "outputs": []
    },
    {
      "cell_type": "code",
      "source": [
        "data.columns = ['class', 'largest_spot_size', 'spot_distribution', 'activity', 'evolution', 'prev_activity_code','historically_complex', 'became_complex', 'area', 'largest_spot_area', 'C_class', 'M_class', 'X_class']"
      ],
      "metadata": {
        "id": "a5_IMJ_0jaH1"
      },
      "execution_count": null,
      "outputs": []
    },
    {
      "cell_type": "code",
      "source": [
        "data.info()"
      ],
      "metadata": {
        "colab": {
          "base_uri": "https://localhost:8080/"
        },
        "id": "LLJGWMCN2fo1",
        "outputId": "26b5ce8a-3535-4944-d325-4a1e3285481f"
      },
      "execution_count": null,
      "outputs": [
        {
          "output_type": "stream",
          "name": "stdout",
          "text": [
            "<class 'pandas.core.frame.DataFrame'>\n",
            "RangeIndex: 1067 entries, 0 to 1066\n",
            "Data columns (total 13 columns):\n",
            " #   Column                Non-Null Count  Dtype \n",
            "---  ------                --------------  ----- \n",
            " 0   class                 1067 non-null   object\n",
            " 1   largest_spot_size     1067 non-null   object\n",
            " 2   spot_distribution     1067 non-null   object\n",
            " 3   activity              1067 non-null   object\n",
            " 4   evolution             1067 non-null   object\n",
            " 5   prev_activity_code    1067 non-null   object\n",
            " 6   historically_complex  1067 non-null   object\n",
            " 7   became_complex        1067 non-null   object\n",
            " 8   area                  1067 non-null   object\n",
            " 9   largest_spot_area     1066 non-null   object\n",
            " 10  C_class               1066 non-null   object\n",
            " 11  M_class               1066 non-null   object\n",
            " 12  X_class               1066 non-null   object\n",
            "dtypes: object(13)\n",
            "memory usage: 108.5+ KB\n"
          ]
        }
      ]
    },
    {
      "cell_type": "code",
      "source": [
        "#Drop first row\n",
        "data = data.drop(index=0)"
      ],
      "metadata": {
        "id": "WNaUezcIkETX"
      },
      "execution_count": null,
      "outputs": []
    },
    {
      "cell_type": "code",
      "source": [
        "data.head()"
      ],
      "metadata": {
        "colab": {
          "base_uri": "https://localhost:8080/",
          "height": 270
        },
        "id": "FcwkBLTRDbF-",
        "outputId": "a94f67f4-cc12-4c0b-b5ac-5bb18f4c02cd"
      },
      "execution_count": null,
      "outputs": [
        {
          "output_type": "execute_result",
          "data": {
            "text/plain": [
              "  class largest_spot_size spot_distribution activity evolution  \\\n",
              "1     H                 A                 X        1         3   \n",
              "2     D                 R                 O        1         3   \n",
              "3     C                 S                 O        1         3   \n",
              "4     H                 R                 X        1         2   \n",
              "5     H                 S                 X        1         1   \n",
              "\n",
              "  prev_activity_code historically_complex became_complex area  \\\n",
              "1                  1                    1              1    1   \n",
              "2                  1                    1              2    1   \n",
              "3                  1                    1              2    1   \n",
              "4                  1                    1              1    1   \n",
              "5                  1                    1              2    1   \n",
              "\n",
              "  largest_spot_area C_class M_class X_class  \n",
              "1                 1       0       0       0  \n",
              "2                 1       0       0       0  \n",
              "3                 1       0       0       0  \n",
              "4                 1       0       0       0  \n",
              "5                 1       0       0       0  "
            ],
            "text/html": [
              "\n",
              "\n",
              "  <div id=\"df-30d74c73-ab33-4339-b1e2-dff38e4c5c48\">\n",
              "    <div class=\"colab-df-container\">\n",
              "      <div>\n",
              "<style scoped>\n",
              "    .dataframe tbody tr th:only-of-type {\n",
              "        vertical-align: middle;\n",
              "    }\n",
              "\n",
              "    .dataframe tbody tr th {\n",
              "        vertical-align: top;\n",
              "    }\n",
              "\n",
              "    .dataframe thead th {\n",
              "        text-align: right;\n",
              "    }\n",
              "</style>\n",
              "<table border=\"1\" class=\"dataframe\">\n",
              "  <thead>\n",
              "    <tr style=\"text-align: right;\">\n",
              "      <th></th>\n",
              "      <th>class</th>\n",
              "      <th>largest_spot_size</th>\n",
              "      <th>spot_distribution</th>\n",
              "      <th>activity</th>\n",
              "      <th>evolution</th>\n",
              "      <th>prev_activity_code</th>\n",
              "      <th>historically_complex</th>\n",
              "      <th>became_complex</th>\n",
              "      <th>area</th>\n",
              "      <th>largest_spot_area</th>\n",
              "      <th>C_class</th>\n",
              "      <th>M_class</th>\n",
              "      <th>X_class</th>\n",
              "    </tr>\n",
              "  </thead>\n",
              "  <tbody>\n",
              "    <tr>\n",
              "      <th>1</th>\n",
              "      <td>H</td>\n",
              "      <td>A</td>\n",
              "      <td>X</td>\n",
              "      <td>1</td>\n",
              "      <td>3</td>\n",
              "      <td>1</td>\n",
              "      <td>1</td>\n",
              "      <td>1</td>\n",
              "      <td>1</td>\n",
              "      <td>1</td>\n",
              "      <td>0</td>\n",
              "      <td>0</td>\n",
              "      <td>0</td>\n",
              "    </tr>\n",
              "    <tr>\n",
              "      <th>2</th>\n",
              "      <td>D</td>\n",
              "      <td>R</td>\n",
              "      <td>O</td>\n",
              "      <td>1</td>\n",
              "      <td>3</td>\n",
              "      <td>1</td>\n",
              "      <td>1</td>\n",
              "      <td>2</td>\n",
              "      <td>1</td>\n",
              "      <td>1</td>\n",
              "      <td>0</td>\n",
              "      <td>0</td>\n",
              "      <td>0</td>\n",
              "    </tr>\n",
              "    <tr>\n",
              "      <th>3</th>\n",
              "      <td>C</td>\n",
              "      <td>S</td>\n",
              "      <td>O</td>\n",
              "      <td>1</td>\n",
              "      <td>3</td>\n",
              "      <td>1</td>\n",
              "      <td>1</td>\n",
              "      <td>2</td>\n",
              "      <td>1</td>\n",
              "      <td>1</td>\n",
              "      <td>0</td>\n",
              "      <td>0</td>\n",
              "      <td>0</td>\n",
              "    </tr>\n",
              "    <tr>\n",
              "      <th>4</th>\n",
              "      <td>H</td>\n",
              "      <td>R</td>\n",
              "      <td>X</td>\n",
              "      <td>1</td>\n",
              "      <td>2</td>\n",
              "      <td>1</td>\n",
              "      <td>1</td>\n",
              "      <td>1</td>\n",
              "      <td>1</td>\n",
              "      <td>1</td>\n",
              "      <td>0</td>\n",
              "      <td>0</td>\n",
              "      <td>0</td>\n",
              "    </tr>\n",
              "    <tr>\n",
              "      <th>5</th>\n",
              "      <td>H</td>\n",
              "      <td>S</td>\n",
              "      <td>X</td>\n",
              "      <td>1</td>\n",
              "      <td>1</td>\n",
              "      <td>1</td>\n",
              "      <td>1</td>\n",
              "      <td>2</td>\n",
              "      <td>1</td>\n",
              "      <td>1</td>\n",
              "      <td>0</td>\n",
              "      <td>0</td>\n",
              "      <td>0</td>\n",
              "    </tr>\n",
              "  </tbody>\n",
              "</table>\n",
              "</div>\n",
              "      <button class=\"colab-df-convert\" onclick=\"convertToInteractive('df-30d74c73-ab33-4339-b1e2-dff38e4c5c48')\"\n",
              "              title=\"Convert this dataframe to an interactive table.\"\n",
              "              style=\"display:none;\">\n",
              "\n",
              "  <svg xmlns=\"http://www.w3.org/2000/svg\" height=\"24px\"viewBox=\"0 0 24 24\"\n",
              "       width=\"24px\">\n",
              "    <path d=\"M0 0h24v24H0V0z\" fill=\"none\"/>\n",
              "    <path d=\"M18.56 5.44l.94 2.06.94-2.06 2.06-.94-2.06-.94-.94-2.06-.94 2.06-2.06.94zm-11 1L8.5 8.5l.94-2.06 2.06-.94-2.06-.94L8.5 2.5l-.94 2.06-2.06.94zm10 10l.94 2.06.94-2.06 2.06-.94-2.06-.94-.94-2.06-.94 2.06-2.06.94z\"/><path d=\"M17.41 7.96l-1.37-1.37c-.4-.4-.92-.59-1.43-.59-.52 0-1.04.2-1.43.59L10.3 9.45l-7.72 7.72c-.78.78-.78 2.05 0 2.83L4 21.41c.39.39.9.59 1.41.59.51 0 1.02-.2 1.41-.59l7.78-7.78 2.81-2.81c.8-.78.8-2.07 0-2.86zM5.41 20L4 18.59l7.72-7.72 1.47 1.35L5.41 20z\"/>\n",
              "  </svg>\n",
              "      </button>\n",
              "\n",
              "\n",
              "\n",
              "    <div id=\"df-0f010c65-33f5-430f-be2e-183327b600e6\">\n",
              "      <button class=\"colab-df-quickchart\" onclick=\"quickchart('df-0f010c65-33f5-430f-be2e-183327b600e6')\"\n",
              "              title=\"Suggest charts.\"\n",
              "              style=\"display:none;\">\n",
              "\n",
              "<svg xmlns=\"http://www.w3.org/2000/svg\" height=\"24px\"viewBox=\"0 0 24 24\"\n",
              "     width=\"24px\">\n",
              "    <g>\n",
              "        <path d=\"M19 3H5c-1.1 0-2 .9-2 2v14c0 1.1.9 2 2 2h14c1.1 0 2-.9 2-2V5c0-1.1-.9-2-2-2zM9 17H7v-7h2v7zm4 0h-2V7h2v10zm4 0h-2v-4h2v4z\"/>\n",
              "    </g>\n",
              "</svg>\n",
              "      </button>\n",
              "    </div>\n",
              "\n",
              "<style>\n",
              "  .colab-df-quickchart {\n",
              "    background-color: #E8F0FE;\n",
              "    border: none;\n",
              "    border-radius: 50%;\n",
              "    cursor: pointer;\n",
              "    display: none;\n",
              "    fill: #1967D2;\n",
              "    height: 32px;\n",
              "    padding: 0 0 0 0;\n",
              "    width: 32px;\n",
              "  }\n",
              "\n",
              "  .colab-df-quickchart:hover {\n",
              "    background-color: #E2EBFA;\n",
              "    box-shadow: 0px 1px 2px rgba(60, 64, 67, 0.3), 0px 1px 3px 1px rgba(60, 64, 67, 0.15);\n",
              "    fill: #174EA6;\n",
              "  }\n",
              "\n",
              "  [theme=dark] .colab-df-quickchart {\n",
              "    background-color: #3B4455;\n",
              "    fill: #D2E3FC;\n",
              "  }\n",
              "\n",
              "  [theme=dark] .colab-df-quickchart:hover {\n",
              "    background-color: #434B5C;\n",
              "    box-shadow: 0px 1px 3px 1px rgba(0, 0, 0, 0.15);\n",
              "    filter: drop-shadow(0px 1px 2px rgba(0, 0, 0, 0.3));\n",
              "    fill: #FFFFFF;\n",
              "  }\n",
              "</style>\n",
              "\n",
              "    <script>\n",
              "      async function quickchart(key) {\n",
              "        const containerElement = document.querySelector('#' + key);\n",
              "        const charts = await google.colab.kernel.invokeFunction(\n",
              "            'suggestCharts', [key], {});\n",
              "      }\n",
              "    </script>\n",
              "\n",
              "      <script>\n",
              "\n",
              "function displayQuickchartButton(domScope) {\n",
              "  let quickchartButtonEl =\n",
              "    domScope.querySelector('#df-0f010c65-33f5-430f-be2e-183327b600e6 button.colab-df-quickchart');\n",
              "  quickchartButtonEl.style.display =\n",
              "    google.colab.kernel.accessAllowed ? 'block' : 'none';\n",
              "}\n",
              "\n",
              "        displayQuickchartButton(document);\n",
              "      </script>\n",
              "      <style>\n",
              "    .colab-df-container {\n",
              "      display:flex;\n",
              "      flex-wrap:wrap;\n",
              "      gap: 12px;\n",
              "    }\n",
              "\n",
              "    .colab-df-convert {\n",
              "      background-color: #E8F0FE;\n",
              "      border: none;\n",
              "      border-radius: 50%;\n",
              "      cursor: pointer;\n",
              "      display: none;\n",
              "      fill: #1967D2;\n",
              "      height: 32px;\n",
              "      padding: 0 0 0 0;\n",
              "      width: 32px;\n",
              "    }\n",
              "\n",
              "    .colab-df-convert:hover {\n",
              "      background-color: #E2EBFA;\n",
              "      box-shadow: 0px 1px 2px rgba(60, 64, 67, 0.3), 0px 1px 3px 1px rgba(60, 64, 67, 0.15);\n",
              "      fill: #174EA6;\n",
              "    }\n",
              "\n",
              "    [theme=dark] .colab-df-convert {\n",
              "      background-color: #3B4455;\n",
              "      fill: #D2E3FC;\n",
              "    }\n",
              "\n",
              "    [theme=dark] .colab-df-convert:hover {\n",
              "      background-color: #434B5C;\n",
              "      box-shadow: 0px 1px 3px 1px rgba(0, 0, 0, 0.15);\n",
              "      filter: drop-shadow(0px 1px 2px rgba(0, 0, 0, 0.3));\n",
              "      fill: #FFFFFF;\n",
              "    }\n",
              "  </style>\n",
              "\n",
              "      <script>\n",
              "        const buttonEl =\n",
              "          document.querySelector('#df-30d74c73-ab33-4339-b1e2-dff38e4c5c48 button.colab-df-convert');\n",
              "        buttonEl.style.display =\n",
              "          google.colab.kernel.accessAllowed ? 'block' : 'none';\n",
              "\n",
              "        async function convertToInteractive(key) {\n",
              "          const element = document.querySelector('#df-30d74c73-ab33-4339-b1e2-dff38e4c5c48');\n",
              "          const dataTable =\n",
              "            await google.colab.kernel.invokeFunction('convertToInteractive',\n",
              "                                                     [key], {});\n",
              "          if (!dataTable) return;\n",
              "\n",
              "          const docLinkHtml = 'Like what you see? Visit the ' +\n",
              "            '<a target=\"_blank\" href=https://colab.research.google.com/notebooks/data_table.ipynb>data table notebook</a>'\n",
              "            + ' to learn more about interactive tables.';\n",
              "          element.innerHTML = '';\n",
              "          dataTable['output_type'] = 'display_data';\n",
              "          await google.colab.output.renderOutput(dataTable, element);\n",
              "          const docLink = document.createElement('div');\n",
              "          docLink.innerHTML = docLinkHtml;\n",
              "          element.appendChild(docLink);\n",
              "        }\n",
              "      </script>\n",
              "    </div>\n",
              "  </div>\n"
            ]
          },
          "metadata": {},
          "execution_count": 6
        }
      ]
    },
    {
      "cell_type": "code",
      "source": [
        "#Convert data types to integer\n",
        "data['activity']= data['activity'].astype(int)\n",
        "data['evolution']= data['evolution'].astype(int)\n",
        "data['prev_activity_code']= data['prev_activity_code'].astype(int)\n",
        "data['historically_complex']= data['historically_complex'].astype(int)\n",
        "data['became_complex']= data['became_complex'].astype(int)\n",
        "data['area']= data['area'].astype(int)\n",
        "data['largest_spot_area']= data['largest_spot_area'].astype(int)\n",
        "data['C_class']= data['C_class'].astype(int)\n",
        "data['M_class']= data['M_class'].astype(int)\n",
        "data['X_class']= data['X_class'].astype(int)"
      ],
      "metadata": {
        "id": "QS57K9ZpDXYf"
      },
      "execution_count": null,
      "outputs": []
    },
    {
      "cell_type": "markdown",
      "source": [
        "Data Splitting"
      ],
      "metadata": {
        "id": "zbNiHZTVFds2"
      }
    },
    {
      "cell_type": "code",
      "source": [
        "X = data.drop('class', axis=1)\n",
        "y = data['class']"
      ],
      "metadata": {
        "id": "d7uE8lwwFhNu"
      },
      "execution_count": null,
      "outputs": []
    },
    {
      "cell_type": "markdown",
      "source": [
        "Data Preprocessing"
      ],
      "metadata": {
        "id": "jTs59X8a045F"
      }
    },
    {
      "cell_type": "markdown",
      "source": [
        "- Missing Values"
      ],
      "metadata": {
        "id": "v3Db4Atk4gnb"
      }
    },
    {
      "cell_type": "code",
      "source": [
        "#Missing Values\n",
        "missing_values = data.isna().sum()\n",
        "print(missing_values)"
      ],
      "metadata": {
        "colab": {
          "base_uri": "https://localhost:8080/"
        },
        "id": "8TFHmPEK06UL",
        "outputId": "76fbbcd9-b221-49f6-93c8-ae3be427679a"
      },
      "execution_count": null,
      "outputs": [
        {
          "output_type": "stream",
          "name": "stdout",
          "text": [
            "class                   0\n",
            "largest_spot_size       0\n",
            "spot_distribution       0\n",
            "activity                0\n",
            "evolution               0\n",
            "prev_activity_code      0\n",
            "historically_complex    0\n",
            "became_complex          0\n",
            "area                    0\n",
            "largest_spot_area       0\n",
            "C_class                 0\n",
            "M_class                 0\n",
            "X_class                 0\n",
            "dtype: int64\n"
          ]
        }
      ]
    },
    {
      "cell_type": "code",
      "source": [
        "#we handle the missing data by dropping the rows,\n",
        "#since it is relatively small compared to the total size of the dataset\n",
        "#hence is less significant\n",
        "# data.dropna(subset=['largest_spot_area', 'C_class', 'M_class', 'X_class'], inplace=True)"
      ],
      "metadata": {
        "id": "6D50OBpJ08Fv"
      },
      "execution_count": null,
      "outputs": []
    },
    {
      "cell_type": "code",
      "source": [
        "#final check\n",
        "data.isnull().sum()"
      ],
      "metadata": {
        "colab": {
          "base_uri": "https://localhost:8080/"
        },
        "id": "kdhQu9QR3BiL",
        "outputId": "6d8fe1f9-43a0-4e2d-c7c5-4a0037e29114"
      },
      "execution_count": null,
      "outputs": [
        {
          "output_type": "execute_result",
          "data": {
            "text/plain": [
              "class                   0\n",
              "largest_spot_size       0\n",
              "spot_distribution       0\n",
              "activity                0\n",
              "evolution               0\n",
              "prev_activity_code      0\n",
              "historically_complex    0\n",
              "became_complex          0\n",
              "area                    0\n",
              "largest_spot_area       0\n",
              "C_class                 0\n",
              "M_class                 0\n",
              "X_class                 0\n",
              "dtype: int64"
            ]
          },
          "metadata": {},
          "execution_count": 11
        }
      ]
    },
    {
      "cell_type": "markdown",
      "source": [
        "- Duplicate rows"
      ],
      "metadata": {
        "id": "jZvvDXSR4kXw"
      }
    },
    {
      "cell_type": "code",
      "source": [
        "#Find Duplicate instances\n",
        "duplicated_rows = data[data.duplicated()]\n",
        "len(duplicated_rows)"
      ],
      "metadata": {
        "colab": {
          "base_uri": "https://localhost:8080/"
        },
        "id": "EOlVBhRE3DwK",
        "outputId": "71384bea-a212-440d-ef7d-2ba4f996782e"
      },
      "execution_count": null,
      "outputs": [
        {
          "output_type": "execute_result",
          "data": {
            "text/plain": [
              "701"
            ]
          },
          "metadata": {},
          "execution_count": 12
        }
      ]
    },
    {
      "cell_type": "code",
      "source": [
        "#Duplicated rows are dropped, with the exception of the first instance\n",
        "data = data.drop_duplicates(keep=\"first\")"
      ],
      "metadata": {
        "id": "nH5yLSI-3y2m"
      },
      "execution_count": null,
      "outputs": []
    },
    {
      "cell_type": "code",
      "source": [
        "#Updated info about our dataset\n",
        "data.info()"
      ],
      "metadata": {
        "colab": {
          "base_uri": "https://localhost:8080/"
        },
        "id": "H4lWmY7h7JyP",
        "outputId": "ffc6f5e5-14ac-4b3f-caa3-b720ed657c8c"
      },
      "execution_count": null,
      "outputs": [
        {
          "output_type": "stream",
          "name": "stdout",
          "text": [
            "<class 'pandas.core.frame.DataFrame'>\n",
            "Int64Index: 365 entries, 1 to 1059\n",
            "Data columns (total 13 columns):\n",
            " #   Column                Non-Null Count  Dtype \n",
            "---  ------                --------------  ----- \n",
            " 0   class                 365 non-null    object\n",
            " 1   largest_spot_size     365 non-null    object\n",
            " 2   spot_distribution     365 non-null    object\n",
            " 3   activity              365 non-null    int64 \n",
            " 4   evolution             365 non-null    int64 \n",
            " 5   prev_activity_code    365 non-null    int64 \n",
            " 6   historically_complex  365 non-null    int64 \n",
            " 7   became_complex        365 non-null    int64 \n",
            " 8   area                  365 non-null    int64 \n",
            " 9   largest_spot_area     365 non-null    int64 \n",
            " 10  C_class               365 non-null    int64 \n",
            " 11  M_class               365 non-null    int64 \n",
            " 12  X_class               365 non-null    int64 \n",
            "dtypes: int64(10), object(3)\n",
            "memory usage: 39.9+ KB\n"
          ]
        }
      ]
    },
    {
      "cell_type": "markdown",
      "source": [
        "- Outlier Detection"
      ],
      "metadata": {
        "id": "qzztem4B7Wjq"
      }
    },
    {
      "cell_type": "code",
      "source": [
        "# Create a box plot to aid in the identification\n",
        "columms_of_interest = ['activity', 'evolution', 'prev_activity_code','historically_complex', 'became_complex', 'area', 'largest_spot_area', 'C_class', 'M_class', 'X_class']\n",
        "\n",
        "plt.figure(figsize=(10, 6))\n",
        "data.boxplot(column=columms_of_interest)\n",
        "plt.title('Box Plot')\n",
        "plt.ylabel('Values')\n",
        "plt.xlabel('Columns')\n",
        "plt.xticks(rotation=45)\n",
        "plt.show()\n"
      ],
      "metadata": {
        "colab": {
          "base_uri": "https://localhost:8080/",
          "height": 660
        },
        "id": "bc3j0nxE-PuS",
        "outputId": "b55367c2-d0bc-4b32-9e57-d6a82ce456eb"
      },
      "execution_count": null,
      "outputs": [
        {
          "output_type": "display_data",
          "data": {
            "text/plain": [
              "<Figure size 1000x600 with 1 Axes>"
            ],
            "image/png": "[encoded data removed]"
          },
          "metadata": {}
        }
      ]
    },
    {
      "cell_type": "code",
      "source": [
        "desc = data.describe()\n",
        "desc"
      ],
      "metadata": {
        "colab": {
          "base_uri": "https://localhost:8080/",
          "height": 364
        },
        "id": "avi4o-cs_pTb",
        "outputId": "6a2326b3-465f-4ab9-e336-a0658562b720"
      },
      "execution_count": null,
      "outputs": [
        {
          "output_type": "execute_result",
          "data": {
            "text/plain": [
              "         activity   evolution  prev_activity_code  historically_complex  \\\n",
              "count  365.000000  365.000000          365.000000            365.000000   \n",
              "mean     1.361644    2.378082            1.164384              1.616438   \n",
              "std      0.481136    0.650073            0.519237              0.486921   \n",
              "min      1.000000    1.000000            1.000000              1.000000   \n",
              "25%      1.000000    2.000000            1.000000              1.000000   \n",
              "50%      1.000000    2.000000            1.000000              2.000000   \n",
              "75%      2.000000    3.000000            1.000000              2.000000   \n",
              "max      2.000000    3.000000            3.000000              2.000000   \n",
              "\n",
              "       became_complex        area  largest_spot_area     C_class     M_class  \\\n",
              "count      365.000000  365.000000              365.0  365.000000  365.000000   \n",
              "mean         1.934247    1.068493                1.0    0.775342    0.131507   \n",
              "std          0.248191    0.252937                0.0    1.257481    0.501886   \n",
              "min          1.000000    1.000000                1.0    0.000000    0.000000   \n",
              "25%          2.000000    1.000000                1.0    0.000000    0.000000   \n",
              "50%          2.000000    1.000000                1.0    0.000000    0.000000   \n",
              "75%          2.000000    1.000000                1.0    1.000000    0.000000   \n",
              "max          2.000000    2.000000                1.0    8.000000    5.000000   \n",
              "\n",
              "          X_class  \n",
              "count  365.000000  \n",
              "mean     0.016438  \n",
              "std      0.147333  \n",
              "min      0.000000  \n",
              "25%      0.000000  \n",
              "50%      0.000000  \n",
              "75%      0.000000  \n",
              "max      2.000000  "
            ],
            "text/html": [
              "\n",
              "\n",
              "  <div id=\"df-10ab66f8-3533-4233-b3a4-8c39f8af453d\">\n",
              "    <div class=\"colab-df-container\">\n",
              "      <div>\n",
              "<style scoped>\n",
              "    .dataframe tbody tr th:only-of-type {\n",
              "        vertical-align: middle;\n",
              "    }\n",
              "\n",
              "    .dataframe tbody tr th {\n",
              "        vertical-align: top;\n",
              "    }\n",
              "\n",
              "    .dataframe thead th {\n",
              "        text-align: right;\n",
              "    }\n",
              "</style>\n",
              "<table border=\"1\" class=\"dataframe\">\n",
              "  <thead>\n",
              "    <tr style=\"text-align: right;\">\n",
              "      <th></th>\n",
              "      <th>activity</th>\n",
              "      <th>evolution</th>\n",
              "      <th>prev_activity_code</th>\n",
              "      <th>historically_complex</th>\n",
              "      <th>became_complex</th>\n",
              "      <th>area</th>\n",
              "      <th>largest_spot_area</th>\n",
              "      <th>C_class</th>\n",
              "      <th>M_class</th>\n",
              "      <th>X_class</th>\n",
              "    </tr>\n",
              "  </thead>\n",
              "  <tbody>\n",
              "    <tr>\n",
              "      <th>count</th>\n",
              "      <td>365.000000</td>\n",
              "      <td>365.000000</td>\n",
              "      <td>365.000000</td>\n",
              "      <td>365.000000</td>\n",
              "      <td>365.000000</td>\n",
              "      <td>365.000000</td>\n",
              "      <td>365.0</td>\n",
              "      <td>365.000000</td>\n",
              "      <td>365.000000</td>\n",
              "      <td>365.000000</td>\n",
              "    </tr>\n",
              "    <tr>\n",
              "      <th>mean</th>\n",
              "      <td>1.361644</td>\n",
              "      <td>2.378082</td>\n",
              "      <td>1.164384</td>\n",
              "      <td>1.616438</td>\n",
              "      <td>1.934247</td>\n",
              "      <td>1.068493</td>\n",
              "      <td>1.0</td>\n",
              "      <td>0.775342</td>\n",
              "      <td>0.131507</td>\n",
              "      <td>0.016438</td>\n",
              "    </tr>\n",
              "    <tr>\n",
              "      <th>std</th>\n",
              "      <td>0.481136</td>\n",
              "      <td>0.650073</td>\n",
              "      <td>0.519237</td>\n",
              "      <td>0.486921</td>\n",
              "      <td>0.248191</td>\n",
              "      <td>0.252937</td>\n",
              "      <td>0.0</td>\n",
              "      <td>1.257481</td>\n",
              "      <td>0.501886</td>\n",
              "      <td>0.147333</td>\n",
              "    </tr>\n",
              "    <tr>\n",
              "      <th>min</th>\n",
              "      <td>1.000000</td>\n",
              "      <td>1.000000</td>\n",
              "      <td>1.000000</td>\n",
              "      <td>1.000000</td>\n",
              "      <td>1.000000</td>\n",
              "      <td>1.000000</td>\n",
              "      <td>1.0</td>\n",
              "      <td>0.000000</td>\n",
              "      <td>0.000000</td>\n",
              "      <td>0.000000</td>\n",
              "    </tr>\n",
              "    <tr>\n",
              "      <th>25%</th>\n",
              "      <td>1.000000</td>\n",
              "      <td>2.000000</td>\n",
              "      <td>1.000000</td>\n",
              "      <td>1.000000</td>\n",
              "      <td>2.000000</td>\n",
              "      <td>1.000000</td>\n",
              "      <td>1.0</td>\n",
              "      <td>0.000000</td>\n",
              "      <td>0.000000</td>\n",
              "      <td>0.000000</td>\n",
              "    </tr>\n",
              "    <tr>\n",
              "      <th>50%</th>\n",
              "      <td>1.000000</td>\n",
              "      <td>2.000000</td>\n",
              "      <td>1.000000</td>\n",
              "      <td>2.000000</td>\n",
              "      <td>2.000000</td>\n",
              "      <td>1.000000</td>\n",
              "      <td>1.0</td>\n",
              "      <td>0.000000</td>\n",
              "      <td>0.000000</td>\n",
              "      <td>0.000000</td>\n",
              "    </tr>\n",
              "    <tr>\n",
              "      <th>75%</th>\n",
              "      <td>2.000000</td>\n",
              "      <td>3.000000</td>\n",
              "      <td>1.000000</td>\n",
              "      <td>2.000000</td>\n",
              "      <td>2.000000</td>\n",
              "      <td>1.000000</td>\n",
              "      <td>1.0</td>\n",
              "      <td>1.000000</td>\n",
              "      <td>0.000000</td>\n",
              "      <td>0.000000</td>\n",
              "    </tr>\n",
              "    <tr>\n",
              "      <th>max</th>\n",
              "      <td>2.000000</td>\n",
              "      <td>3.000000</td>\n",
              "      <td>3.000000</td>\n",
              "      <td>2.000000</td>\n",
              "      <td>2.000000</td>\n",
              "      <td>2.000000</td>\n",
              "      <td>1.0</td>\n",
              "      <td>8.000000</td>\n",
              "      <td>5.000000</td>\n",
              "      <td>2.000000</td>\n",
              "    </tr>\n",
              "  </tbody>\n",
              "</table>\n",
              "</div>\n",
              "      <button class=\"colab-df-convert\" onclick=\"convertToInteractive('df-10ab66f8-3533-4233-b3a4-8c39f8af453d')\"\n",
              "              title=\"Convert this dataframe to an interactive table.\"\n",
              "              style=\"display:none;\">\n",
              "\n",
              "  <svg xmlns=\"http://www.w3.org/2000/svg\" height=\"24px\"viewBox=\"0 0 24 24\"\n",
              "       width=\"24px\">\n",
              "    <path d=\"M0 0h24v24H0V0z\" fill=\"none\"/>\n",
              "    <path d=\"M18.56 5.44l.94 2.06.94-2.06 2.06-.94-2.06-.94-.94-2.06-.94 2.06-2.06.94zm-11 1L8.5 8.5l.94-2.06 2.06-.94-2.06-.94L8.5 2.5l-.94 2.06-2.06.94zm10 10l.94 2.06.94-2.06 2.06-.94-2.06-.94-.94-2.06-.94 2.06-2.06.94z\"/><path d=\"M17.41 7.96l-1.37-1.37c-.4-.4-.92-.59-1.43-.59-.52 0-1.04.2-1.43.59L10.3 9.45l-7.72 7.72c-.78.78-.78 2.05 0 2.83L4 21.41c.39.39.9.59 1.41.59.51 0 1.02-.2 1.41-.59l7.78-7.78 2.81-2.81c.8-.78.8-2.07 0-2.86zM5.41 20L4 18.59l7.72-7.72 1.47 1.35L5.41 20z\"/>\n",
              "  </svg>\n",
              "      </button>\n",
              "\n",
              "\n",
              "\n",
              "    <div id=\"df-f7447139-35da-4ee3-aea4-1d24a823662c\">\n",
              "      <button class=\"colab-df-quickchart\" onclick=\"quickchart('df-f7447139-35da-4ee3-aea4-1d24a823662c')\"\n",
              "              title=\"Suggest charts.\"\n",
              "              style=\"display:none;\">\n",
              "\n",
              "<svg xmlns=\"http://www.w3.org/2000/svg\" height=\"24px\"viewBox=\"0 0 24 24\"\n",
              "     width=\"24px\">\n",
              "    <g>\n",
              "        <path d=\"M19 3H5c-1.1 0-2 .9-2 2v14c0 1.1.9 2 2 2h14c1.1 0 2-.9 2-2V5c0-1.1-.9-2-2-2zM9 17H7v-7h2v7zm4 0h-2V7h2v10zm4 0h-2v-4h2v4z\"/>\n",
              "    </g>\n",
              "</svg>\n",
              "      </button>\n",
              "    </div>\n",
              "\n",
              "<style>\n",
              "  .colab-df-quickchart {\n",
              "    background-color: #E8F0FE;\n",
              "    border: none;\n",
              "    border-radius: 50%;\n",
              "    cursor: pointer;\n",
              "    display: none;\n",
              "    fill: #1967D2;\n",
              "    height: 32px;\n",
              "    padding: 0 0 0 0;\n",
              "    width: 32px;\n",
              "  }\n",
              "\n",
              "  .colab-df-quickchart:hover {\n",
              "    background-color: #E2EBFA;\n",
              "    box-shadow: 0px 1px 2px rgba(60, 64, 67, 0.3), 0px 1px 3px 1px rgba(60, 64, 67, 0.15);\n",
              "    fill: #174EA6;\n",
              "  }\n",
              "\n",
              "  [theme=dark] .colab-df-quickchart {\n",
              "    background-color: #3B4455;\n",
              "    fill: #D2E3FC;\n",
              "  }\n",
              "\n",
              "  [theme=dark] .colab-df-quickchart:hover {\n",
              "    background-color: #434B5C;\n",
              "    box-shadow: 0px 1px 3px 1px rgba(0, 0, 0, 0.15);\n",
              "    filter: drop-shadow(0px 1px 2px rgba(0, 0, 0, 0.3));\n",
              "    fill: #FFFFFF;\n",
              "  }\n",
              "</style>\n",
              "\n",
              "    <script>\n",
              "      async function quickchart(key) {\n",
              "        const containerElement = document.querySelector('#' + key);\n",
              "        const charts = await google.colab.kernel.invokeFunction(\n",
              "            'suggestCharts', [key], {});\n",
              "      }\n",
              "    </script>\n",
              "\n",
              "      <script>\n",
              "\n",
              "function displayQuickchartButton(domScope) {\n",
              "  let quickchartButtonEl =\n",
              "    domScope.querySelector('#df-f7447139-35da-4ee3-aea4-1d24a823662c button.colab-df-quickchart');\n",
              "  quickchartButtonEl.style.display =\n",
              "    google.colab.kernel.accessAllowed ? 'block' : 'none';\n",
              "}\n",
              "\n",
              "        displayQuickchartButton(document);\n",
              "      </script>\n",
              "      <style>\n",
              "    .colab-df-container {\n",
              "      display:flex;\n",
              "      flex-wrap:wrap;\n",
              "      gap: 12px;\n",
              "    }\n",
              "\n",
              "    .colab-df-convert {\n",
              "      background-color: #E8F0FE;\n",
              "      border: none;\n",
              "      border-radius: 50%;\n",
              "      cursor: pointer;\n",
              "      display: none;\n",
              "      fill: #1967D2;\n",
              "      height: 32px;\n",
              "      padding: 0 0 0 0;\n",
              "      width: 32px;\n",
              "    }\n",
              "\n",
              "    .colab-df-convert:hover {\n",
              "      background-color: #E2EBFA;\n",
              "      box-shadow: 0px 1px 2px rgba(60, 64, 67, 0.3), 0px 1px 3px 1px rgba(60, 64, 67, 0.15);\n",
              "      fill: #174EA6;\n",
              "    }\n",
              "\n",
              "    [theme=dark] .colab-df-convert {\n",
              "      background-color: #3B4455;\n",
              "      fill: #D2E3FC;\n",
              "    }\n",
              "\n",
              "    [theme=dark] .colab-df-convert:hover {\n",
              "      background-color: #434B5C;\n",
              "      box-shadow: 0px 1px 3px 1px rgba(0, 0, 0, 0.15);\n",
              "      filter: drop-shadow(0px 1px 2px rgba(0, 0, 0, 0.3));\n",
              "      fill: #FFFFFF;\n",
              "    }\n",
              "  </style>\n",
              "\n",
              "      <script>\n",
              "        const buttonEl =\n",
              "          document.querySelector('#df-10ab66f8-3533-4233-b3a4-8c39f8af453d button.colab-df-convert');\n",
              "        buttonEl.style.display =\n",
              "          google.colab.kernel.accessAllowed ? 'block' : 'none';\n",
              "\n",
              "        async function convertToInteractive(key) {\n",
              "          const element = document.querySelector('#df-10ab66f8-3533-4233-b3a4-8c39f8af453d');\n",
              "          const dataTable =\n",
              "            await google.colab.kernel.invokeFunction('convertToInteractive',\n",
              "                                                     [key], {});\n",
              "          if (!dataTable) return;\n",
              "\n",
              "          const docLinkHtml = 'Like what you see? Visit the ' +\n",
              "            '<a target=\"_blank\" href=https://colab.research.google.com/notebooks/data_table.ipynb>data table notebook</a>'\n",
              "            + ' to learn more about interactive tables.';\n",
              "          element.innerHTML = '';\n",
              "          dataTable['output_type'] = 'display_data';\n",
              "          await google.colab.output.renderOutput(dataTable, element);\n",
              "          const docLink = document.createElement('div');\n",
              "          docLink.innerHTML = docLinkHtml;\n",
              "          element.appendChild(docLink);\n",
              "        }\n",
              "      </script>\n",
              "    </div>\n",
              "  </div>\n"
            ]
          },
          "metadata": {},
          "execution_count": 16
        }
      ]
    },
    {
      "cell_type": "markdown",
      "source": [
        "There are no outliers: difference between the 75th percentile and 25th percentile stay in range"
      ],
      "metadata": {
        "id": "x-kg8HXlJEjs"
      }
    },
    {
      "cell_type": "markdown",
      "source": [
        "- Influential datapoint detection"
      ],
      "metadata": {
        "id": "EQoJEXdYJZab"
      }
    },
    {
      "cell_type": "markdown",
      "source": [
        "Cook's distance: used in a linear regression model is calculated for each observation, in order to describe the observation's degree of influence upon the model. Therefore, larger values -> greater influence on the model"
      ],
      "metadata": {
        "id": "1BecN4T7LvUa"
      }
    },
    {
      "cell_type": "markdown",
      "source": [
        "- Utilizing Cook's distance to detect outliers, as well as using a threshold of 4/n for determining highly influential ponts"
      ],
      "metadata": {
        "id": "T1aZYdP9OuMQ"
      }
    },
    {
      "cell_type": "code",
      "source": [
        "def preprocess_data(X, y):\n",
        "    # Convert object data types to numerical values\n",
        "    for col in X.columns:\n",
        "        if X[col].dtype == 'object':\n",
        "            X[col] = pd.Categorical(X[col]).codes\n",
        "\n",
        "    if y.dtype == 'object':\n",
        "        y = pd.Categorical(y).codes\n",
        "\n",
        "    return X, y\n",
        "\n",
        "def cook_distance(X, y):\n",
        "    # Add constant column to the feature matrix\n",
        "    X = sm.add_constant(X)\n",
        "\n",
        "    # Fit the OLS regression model\n",
        "    model = sm.OLS(y, X).fit()\n",
        "\n",
        "    # Obtain predicted values and residuals\n",
        "    y_pred = model.predict(X)\n",
        "    residuals = y - y_pred\n",
        "\n",
        "    # Calculate Cook's distance\n",
        "    cook_d = (residuals**2) / (model.df_resid * model.mse_resid)\n",
        "\n",
        "    return cook_d\n",
        "\n",
        "# Example usage\n",
        "# Assuming you have a pandas DataFrame X and a pandas Series y\n",
        "X_processed, y_processed = preprocess_data(X, y)\n",
        "cooks_distance = cook_distance(X_processed, y_processed)\n",
        "\n",
        "#Calculate threshold\n",
        "threshold = 4 / len(X)\n",
        "\n",
        "#Get influencial data points\n",
        "influential_points = X[cooks_distance > threshold]\n",
        "\n",
        "influential_points"
      ],
      "metadata": {
        "colab": {
          "base_uri": "https://localhost:8080/",
          "height": 1000
        },
        "id": "z3uQ8ApPD_G_",
        "outputId": "4583c162-8b5c-472d-ac67-0a874b091c57"
      },
      "execution_count": null,
      "outputs": [
        {
          "output_type": "execute_result",
          "data": {
            "text/plain": [
              "      largest_spot_size  spot_distribution  activity  evolution  \\\n",
              "23                    5                  2         2          2   \n",
              "38                    0                  0         1          3   \n",
              "88                    2                  0         2          2   \n",
              "118                   0                  0         2          2   \n",
              "127                   4                  1         1          2   \n",
              "140                   4                  1         1          2   \n",
              "156                   3                  0         2          3   \n",
              "164                   2                  0         1          3   \n",
              "243                   2                  1         2          2   \n",
              "244                   3                  0         1          3   \n",
              "282                   5                  2         2          1   \n",
              "327                   0                  2         1          2   \n",
              "345                   0                  2         1          2   \n",
              "433                   0                  0         1          3   \n",
              "493                   4                  1         1          2   \n",
              "500                   0                  2         1          2   \n",
              "645                   4                  1         1          3   \n",
              "654                   4                  1         1          3   \n",
              "657                   3                  0         2          3   \n",
              "662                   4                  1         2          2   \n",
              "665                   1                  0         2          3   \n",
              "671                   3                  1         1          2   \n",
              "680                   2                  1         1          2   \n",
              "752                   0                  2         1          2   \n",
              "765                   0                  2         1          2   \n",
              "774                   5                  2         2          2   \n",
              "845                   0                  1         1          3   \n",
              "925                   4                  1         1          3   \n",
              "928                   0                  2         2          2   \n",
              "939                   0                  2         1          2   \n",
              "1000                  4                  1         2          2   \n",
              "1020                  2                  0         2          2   \n",
              "1030                  4                  1         1          3   \n",
              "\n",
              "      prev_activity_code  historically_complex  became_complex  area  \\\n",
              "23                     1                     2               2     1   \n",
              "38                     1                     1               2     1   \n",
              "88                     1                     2               2     1   \n",
              "118                    1                     2               2     1   \n",
              "127                    1                     2               2     1   \n",
              "140                    1                     2               2     1   \n",
              "156                    1                     1               2     1   \n",
              "164                    1                     2               2     1   \n",
              "243                    3                     2               2     1   \n",
              "244                    1                     2               2     1   \n",
              "282                    1                     2               2     1   \n",
              "327                    1                     2               2     1   \n",
              "345                    1                     2               2     1   \n",
              "433                    1                     2               2     1   \n",
              "493                    1                     2               2     1   \n",
              "500                    1                     2               2     1   \n",
              "645                    1                     2               2     1   \n",
              "654                    1                     2               2     1   \n",
              "657                    1                     1               2     1   \n",
              "662                    1                     2               2     1   \n",
              "665                    1                     2               2     1   \n",
              "671                    1                     2               2     1   \n",
              "680                    1                     2               2     1   \n",
              "752                    1                     2               2     1   \n",
              "765                    1                     2               2     1   \n",
              "774                    1                     2               2     1   \n",
              "845                    1                     1               2     1   \n",
              "925                    1                     1               2     1   \n",
              "928                    3                     2               2     1   \n",
              "939                    1                     2               2     1   \n",
              "1000                   1                     2               2     1   \n",
              "1020                   1                     2               2     1   \n",
              "1030                   1                     2               2     1   \n",
              "\n",
              "      largest_spot_area  C_class  M_class  X_class  \n",
              "23                    1        0        0        0  \n",
              "38                    1        3        1        0  \n",
              "88                    1        4        0        0  \n",
              "118                   1        1        0        0  \n",
              "127                   1        0        0        0  \n",
              "140                   1        0        0        0  \n",
              "156                   1        0        0        0  \n",
              "164                   1        0        1        0  \n",
              "243                   1        0        0        0  \n",
              "244                   1        1        0        0  \n",
              "282                   1        0        0        0  \n",
              "327                   1        0        0        0  \n",
              "345                   1        0        0        0  \n",
              "433                   1        0        0        0  \n",
              "493                   1        0        0        0  \n",
              "500                   1        0        0        0  \n",
              "645                   1        2        0        0  \n",
              "654                   1        1        0        0  \n",
              "657                   1        1        0        0  \n",
              "662                   1        0        0        0  \n",
              "665                   1        0        0        0  \n",
              "671                   1        1        0        0  \n",
              "680                   1        1        0        0  \n",
              "752                   1        0        0        0  \n",
              "765                   1        0        0        0  \n",
              "774                   1        2        0        0  \n",
              "845                   1        0        0        0  \n",
              "925                   1        0        0        0  \n",
              "928                   1        0        0        0  \n",
              "939                   1        0        0        0  \n",
              "1000                  1        2        0        0  \n",
              "1020                  1        0        0        0  \n",
              "1030                  1        0        0        0  "
            ],
            "text/html": [
              "\n",
              "\n",
              "  <div id=\"df-768af6b8-5dfa-4647-8ad6-2f4798f48c16\">\n",
              "    <div class=\"colab-df-container\">\n",
              "      <div>\n",
              "<style scoped>\n",
              "    .dataframe tbody tr th:only-of-type {\n",
              "        vertical-align: middle;\n",
              "    }\n",
              "\n",
              "    .dataframe tbody tr th {\n",
              "        vertical-align: top;\n",
              "    }\n",
              "\n",
              "    .dataframe thead th {\n",
              "        text-align: right;\n",
              "    }\n",
              "</style>\n",
              "<table border=\"1\" class=\"dataframe\">\n",
              "  <thead>\n",
              "    <tr style=\"text-align: right;\">\n",
              "      <th></th>\n",
              "      <th>largest_spot_size</th>\n",
              "      <th>spot_distribution</th>\n",
              "      <th>activity</th>\n",
              "      <th>evolution</th>\n",
              "      <th>prev_activity_code</th>\n",
              "      <th>historically_complex</th>\n",
              "      <th>became_complex</th>\n",
              "      <th>area</th>\n",
              "      <th>largest_spot_area</th>\n",
              "      <th>C_class</th>\n",
              "      <th>M_class</th>\n",
              "      <th>X_class</th>\n",
              "    </tr>\n",
              "  </thead>\n",
              "  <tbody>\n",
              "    <tr>\n",
              "      <th>23</th>\n",
              "      <td>5</td>\n",
              "      <td>2</td>\n",
              "      <td>2</td>\n",
              "      <td>2</td>\n",
              "      <td>1</td>\n",
              "      <td>2</td>\n",
              "      <td>2</td>\n",
              "      <td>1</td>\n",
              "      <td>1</td>\n",
              "      <td>0</td>\n",
              "      <td>0</td>\n",
              "      <td>0</td>\n",
              "    </tr>\n",
              "    <tr>\n",
              "      <th>38</th>\n",
              "      <td>0</td>\n",
              "      <td>0</td>\n",
              "      <td>1</td>\n",
              "      <td>3</td>\n",
              "      <td>1</td>\n",
              "      <td>1</td>\n",
              "      <td>2</td>\n",
              "      <td>1</td>\n",
              "      <td>1</td>\n",
              "      <td>3</td>\n",
              "      <td>1</td>\n",
              "      <td>0</td>\n",
              "    </tr>\n",
              "    <tr>\n",
              "      <th>88</th>\n",
              "      <td>2</td>\n",
              "      <td>0</td>\n",
              "      <td>2</td>\n",
              "      <td>2</td>\n",
              "      <td>1</td>\n",
              "      <td>2</td>\n",
              "      <td>2</td>\n",
              "      <td>1</td>\n",
              "      <td>1</td>\n",
              "      <td>4</td>\n",
              "      <td>0</td>\n",
              "      <td>0</td>\n",
              "    </tr>\n",
              "    <tr>\n",
              "      <th>118</th>\n",
              "      <td>0</td>\n",
              "      <td>0</td>\n",
              "      <td>2</td>\n",
              "      <td>2</td>\n",
              "      <td>1</td>\n",
              "      <td>2</td>\n",
              "      <td>2</td>\n",
              "      <td>1</td>\n",
              "      <td>1</td>\n",
              "      <td>1</td>\n",
              "      <td>0</td>\n",
              "      <td>0</td>\n",
              "    </tr>\n",
              "    <tr>\n",
              "      <th>127</th>\n",
              "      <td>4</td>\n",
              "      <td>1</td>\n",
              "      <td>1</td>\n",
              "      <td>2</td>\n",
              "      <td>1</td>\n",
              "      <td>2</td>\n",
              "      <td>2</td>\n",
              "      <td>1</td>\n",
              "      <td>1</td>\n",
              "      <td>0</td>\n",
              "      <td>0</td>\n",
              "      <td>0</td>\n",
              "    </tr>\n",
              "    <tr>\n",
              "      <th>140</th>\n",
              "      <td>4</td>\n",
              "      <td>1</td>\n",
              "      <td>1</td>\n",
              "      <td>2</td>\n",
              "      <td>1</td>\n",
              "      <td>2</td>\n",
              "      <td>2</td>\n",
              "      <td>1</td>\n",
              "      <td>1</td>\n",
              "      <td>0</td>\n",
              "      <td>0</td>\n",
              "      <td>0</td>\n",
              "    </tr>\n",
              "    <tr>\n",
              "      <th>156</th>\n",
              "      <td>3</td>\n",
              "      <td>0</td>\n",
              "      <td>2</td>\n",
              "      <td>3</td>\n",
              "      <td>1</td>\n",
              "      <td>1</td>\n",
              "      <td>2</td>\n",
              "      <td>1</td>\n",
              "      <td>1</td>\n",
              "      <td>0</td>\n",
              "      <td>0</td>\n",
              "      <td>0</td>\n",
              "    </tr>\n",
              "    <tr>\n",
              "      <th>164</th>\n",
              "      <td>2</td>\n",
              "      <td>0</td>\n",
              "      <td>1</td>\n",
              "      <td>3</td>\n",
              "      <td>1</td>\n",
              "      <td>2</td>\n",
              "      <td>2</td>\n",
              "      <td>1</td>\n",
              "      <td>1</td>\n",
              "      <td>0</td>\n",
              "      <td>1</td>\n",
              "      <td>0</td>\n",
              "    </tr>\n",
              "    <tr>\n",
              "      <th>243</th>\n",
              "      <td>2</td>\n",
              "      <td>1</td>\n",
              "      <td>2</td>\n",
              "      <td>2</td>\n",
              "      <td>3</td>\n",
              "      <td>2</td>\n",
              "      <td>2</td>\n",
              "      <td>1</td>\n",
              "      <td>1</td>\n",
              "      <td>0</td>\n",
              "      <td>0</td>\n",
              "      <td>0</td>\n",
              "    </tr>\n",
              "    <tr>\n",
              "      <th>244</th>\n",
              "      <td>3</td>\n",
              "      <td>0</td>\n",
              "      <td>1</td>\n",
              "      <td>3</td>\n",
              "      <td>1</td>\n",
              "      <td>2</td>\n",
              "      <td>2</td>\n",
              "      <td>1</td>\n",
              "      <td>1</td>\n",
              "      <td>1</td>\n",
              "      <td>0</td>\n",
              "      <td>0</td>\n",
              "    </tr>\n",
              "    <tr>\n",
              "      <th>282</th>\n",
              "      <td>5</td>\n",
              "      <td>2</td>\n",
              "      <td>2</td>\n",
              "      <td>1</td>\n",
              "      <td>1</td>\n",
              "      <td>2</td>\n",
              "      <td>2</td>\n",
              "      <td>1</td>\n",
              "      <td>1</td>\n",
              "      <td>0</td>\n",
              "      <td>0</td>\n",
              "      <td>0</td>\n",
              "    </tr>\n",
              "    <tr>\n",
              "      <th>327</th>\n",
              "      <td>0</td>\n",
              "      <td>2</td>\n",
              "      <td>1</td>\n",
              "      <td>2</td>\n",
              "      <td>1</td>\n",
              "      <td>2</td>\n",
              "      <td>2</td>\n",
              "      <td>1</td>\n",
              "      <td>1</td>\n",
              "      <td>0</td>\n",
              "      <td>0</td>\n",
              "      <td>0</td>\n",
              "    </tr>\n",
              "    <tr>\n",
              "      <th>345</th>\n",
              "      <td>0</td>\n",
              "      <td>2</td>\n",
              "      <td>1</td>\n",
              "      <td>2</td>\n",
              "      <td>1</td>\n",
              "      <td>2</td>\n",
              "      <td>2</td>\n",
              "      <td>1</td>\n",
              "      <td>1</td>\n",
              "      <td>0</td>\n",
              "      <td>0</td>\n",
              "      <td>0</td>\n",
              "    </tr>\n",
              "    <tr>\n",
              "      <th>433</th>\n",
              "      <td>0</td>\n",
              "      <td>0</td>\n",
              "      <td>1</td>\n",
              "      <td>3</td>\n",
              "      <td>1</td>\n",
              "      <td>2</td>\n",
              "      <td>2</td>\n",
              "      <td>1</td>\n",
              "      <td>1</td>\n",
              "      <td>0</td>\n",
              "      <td>0</td>\n",
              "      <td>0</td>\n",
              "    </tr>\n",
              "    <tr>\n",
              "      <th>493</th>\n",
              "      <td>4</td>\n",
              "      <td>1</td>\n",
              "      <td>1</td>\n",
              "      <td>2</td>\n",
              "      <td>1</td>\n",
              "      <td>2</td>\n",
              "      <td>2</td>\n",
              "      <td>1</td>\n",
              "      <td>1</td>\n",
              "      <td>0</td>\n",
              "      <td>0</td>\n",
              "      <td>0</td>\n",
              "    </tr>\n",
              "    <tr>\n",
              "      <th>500</th>\n",
              "      <td>0</td>\n",
              "      <td>2</td>\n",
              "      <td>1</td>\n",
              "      <td>2</td>\n",
              "      <td>1</td>\n",
              "      <td>2</td>\n",
              "      <td>2</td>\n",
              "      <td>1</td>\n",
              "      <td>1</td>\n",
              "      <td>0</td>\n",
              "      <td>0</td>\n",
              "      <td>0</td>\n",
              "    </tr>\n",
              "    <tr>\n",
              "      <th>645</th>\n",
              "      <td>4</td>\n",
              "      <td>1</td>\n",
              "      <td>1</td>\n",
              "      <td>3</td>\n",
              "      <td>1</td>\n",
              "      <td>2</td>\n",
              "      <td>2</td>\n",
              "      <td>1</td>\n",
              "      <td>1</td>\n",
              "      <td>2</td>\n",
              "      <td>0</td>\n",
              "      <td>0</td>\n",
              "    </tr>\n",
              "    <tr>\n",
              "      <th>654</th>\n",
              "      <td>4</td>\n",
              "      <td>1</td>\n",
              "      <td>1</td>\n",
              "      <td>3</td>\n",
              "      <td>1</td>\n",
              "      <td>2</td>\n",
              "      <td>2</td>\n",
              "      <td>1</td>\n",
              "      <td>1</td>\n",
              "      <td>1</td>\n",
              "      <td>0</td>\n",
              "      <td>0</td>\n",
              "    </tr>\n",
              "    <tr>\n",
              "      <th>657</th>\n",
              "      <td>3</td>\n",
              "      <td>0</td>\n",
              "      <td>2</td>\n",
              "      <td>3</td>\n",
              "      <td>1</td>\n",
              "      <td>1</td>\n",
              "      <td>2</td>\n",
              "      <td>1</td>\n",
              "      <td>1</td>\n",
              "      <td>1</td>\n",
              "      <td>0</td>\n",
              "      <td>0</td>\n",
              "    </tr>\n",
              "    <tr>\n",
              "      <th>662</th>\n",
              "      <td>4</td>\n",
              "      <td>1</td>\n",
              "      <td>2</td>\n",
              "      <td>2</td>\n",
              "      <td>1</td>\n",
              "      <td>2</td>\n",
              "      <td>2</td>\n",
              "      <td>1</td>\n",
              "      <td>1</td>\n",
              "      <td>0</td>\n",
              "      <td>0</td>\n",
              "      <td>0</td>\n",
              "    </tr>\n",
              "    <tr>\n",
              "      <th>665</th>\n",
              "      <td>1</td>\n",
              "      <td>0</td>\n",
              "      <td>2</td>\n",
              "      <td>3</td>\n",
              "      <td>1</td>\n",
              "      <td>2</td>\n",
              "      <td>2</td>\n",
              "      <td>1</td>\n",
              "      <td>1</td>\n",
              "      <td>0</td>\n",
              "      <td>0</td>\n",
              "      <td>0</td>\n",
              "    </tr>\n",
              "    <tr>\n",
              "      <th>671</th>\n",
              "      <td>3</td>\n",
              "      <td>1</td>\n",
              "      <td>1</td>\n",
              "      <td>2</td>\n",
              "      <td>1</td>\n",
              "      <td>2</td>\n",
              "      <td>2</td>\n",
              "      <td>1</td>\n",
              "      <td>1</td>\n",
              "      <td>1</td>\n",
              "      <td>0</td>\n",
              "      <td>0</td>\n",
              "    </tr>\n",
              "    <tr>\n",
              "      <th>680</th>\n",
              "      <td>2</td>\n",
              "      <td>1</td>\n",
              "      <td>1</td>\n",
              "      <td>2</td>\n",
              "      <td>1</td>\n",
              "      <td>2</td>\n",
              "      <td>2</td>\n",
              "      <td>1</td>\n",
              "      <td>1</td>\n",
              "      <td>1</td>\n",
              "      <td>0</td>\n",
              "      <td>0</td>\n",
              "    </tr>\n",
              "    <tr>\n",
              "      <th>752</th>\n",
              "      <td>0</td>\n",
              "      <td>2</td>\n",
              "      <td>1</td>\n",
              "      <td>2</td>\n",
              "      <td>1</td>\n",
              "      <td>2</td>\n",
              "      <td>2</td>\n",
              "      <td>1</td>\n",
              "      <td>1</td>\n",
              "      <td>0</td>\n",
              "      <td>0</td>\n",
              "      <td>0</td>\n",
              "    </tr>\n",
              "    <tr>\n",
              "      <th>765</th>\n",
              "      <td>0</td>\n",
              "      <td>2</td>\n",
              "      <td>1</td>\n",
              "      <td>2</td>\n",
              "      <td>1</td>\n",
              "      <td>2</td>\n",
              "      <td>2</td>\n",
              "      <td>1</td>\n",
              "      <td>1</td>\n",
              "      <td>0</td>\n",
              "      <td>0</td>\n",
              "      <td>0</td>\n",
              "    </tr>\n",
              "    <tr>\n",
              "      <th>774</th>\n",
              "      <td>5</td>\n",
              "      <td>2</td>\n",
              "      <td>2</td>\n",
              "      <td>2</td>\n",
              "      <td>1</td>\n",
              "      <td>2</td>\n",
              "      <td>2</td>\n",
              "      <td>1</td>\n",
              "      <td>1</td>\n",
              "      <td>2</td>\n",
              "      <td>0</td>\n",
              "      <td>0</td>\n",
              "    </tr>\n",
              "    <tr>\n",
              "      <th>845</th>\n",
              "      <td>0</td>\n",
              "      <td>1</td>\n",
              "      <td>1</td>\n",
              "      <td>3</td>\n",
              "      <td>1</td>\n",
              "      <td>1</td>\n",
              "      <td>2</td>\n",
              "      <td>1</td>\n",
              "      <td>1</td>\n",
              "      <td>0</td>\n",
              "      <td>0</td>\n",
              "      <td>0</td>\n",
              "    </tr>\n",
              "    <tr>\n",
              "      <th>925</th>\n",
              "      <td>4</td>\n",
              "      <td>1</td>\n",
              "      <td>1</td>\n",
              "      <td>3</td>\n",
              "      <td>1</td>\n",
              "      <td>1</td>\n",
              "      <td>2</td>\n",
              "      <td>1</td>\n",
              "      <td>1</td>\n",
              "      <td>0</td>\n",
              "      <td>0</td>\n",
              "      <td>0</td>\n",
              "    </tr>\n",
              "    <tr>\n",
              "      <th>928</th>\n",
              "      <td>0</td>\n",
              "      <td>2</td>\n",
              "      <td>2</td>\n",
              "      <td>2</td>\n",
              "      <td>3</td>\n",
              "      <td>2</td>\n",
              "      <td>2</td>\n",
              "      <td>1</td>\n",
              "      <td>1</td>\n",
              "      <td>0</td>\n",
              "      <td>0</td>\n",
              "      <td>0</td>\n",
              "    </tr>\n",
              "    <tr>\n",
              "      <th>939</th>\n",
              "      <td>0</td>\n",
              "      <td>2</td>\n",
              "      <td>1</td>\n",
              "      <td>2</td>\n",
              "      <td>1</td>\n",
              "      <td>2</td>\n",
              "      <td>2</td>\n",
              "      <td>1</td>\n",
              "      <td>1</td>\n",
              "      <td>0</td>\n",
              "      <td>0</td>\n",
              "      <td>0</td>\n",
              "    </tr>\n",
              "    <tr>\n",
              "      <th>1000</th>\n",
              "      <td>4</td>\n",
              "      <td>1</td>\n",
              "      <td>2</td>\n",
              "      <td>2</td>\n",
              "      <td>1</td>\n",
              "      <td>2</td>\n",
              "      <td>2</td>\n",
              "      <td>1</td>\n",
              "      <td>1</td>\n",
              "      <td>2</td>\n",
              "      <td>0</td>\n",
              "      <td>0</td>\n",
              "    </tr>\n",
              "    <tr>\n",
              "      <th>1020</th>\n",
              "      <td>2</td>\n",
              "      <td>0</td>\n",
              "      <td>2</td>\n",
              "      <td>2</td>\n",
              "      <td>1</td>\n",
              "      <td>2</td>\n",
              "      <td>2</td>\n",
              "      <td>1</td>\n",
              "      <td>1</td>\n",
              "      <td>0</td>\n",
              "      <td>0</td>\n",
              "      <td>0</td>\n",
              "    </tr>\n",
              "    <tr>\n",
              "      <th>1030</th>\n",
              "      <td>4</td>\n",
              "      <td>1</td>\n",
              "      <td>1</td>\n",
              "      <td>3</td>\n",
              "      <td>1</td>\n",
              "      <td>2</td>\n",
              "      <td>2</td>\n",
              "      <td>1</td>\n",
              "      <td>1</td>\n",
              "      <td>0</td>\n",
              "      <td>0</td>\n",
              "      <td>0</td>\n",
              "    </tr>\n",
              "  </tbody>\n",
              "</table>\n",
              "</div>\n",
              "      <button class=\"colab-df-convert\" onclick=\"convertToInteractive('df-768af6b8-5dfa-4647-8ad6-2f4798f48c16')\"\n",
              "              title=\"Convert this dataframe to an interactive table.\"\n",
              "              style=\"display:none;\">\n",
              "\n",
              "  <svg xmlns=\"http://www.w3.org/2000/svg\" height=\"24px\"viewBox=\"0 0 24 24\"\n",
              "       width=\"24px\">\n",
              "    <path d=\"M0 0h24v24H0V0z\" fill=\"none\"/>\n",
              "    <path d=\"M18.56 5.44l.94 2.06.94-2.06 2.06-.94-2.06-.94-.94-2.06-.94 2.06-2.06.94zm-11 1L8.5 8.5l.94-2.06 2.06-.94-2.06-.94L8.5 2.5l-.94 2.06-2.06.94zm10 10l.94 2.06.94-2.06 2.06-.94-2.06-.94-.94-2.06-.94 2.06-2.06.94z\"/><path d=\"M17.41 7.96l-1.37-1.37c-.4-.4-.92-.59-1.43-.59-.52 0-1.04.2-1.43.59L10.3 9.45l-7.72 7.72c-.78.78-.78 2.05 0 2.83L4 21.41c.39.39.9.59 1.41.59.51 0 1.02-.2 1.41-.59l7.78-7.78 2.81-2.81c.8-.78.8-2.07 0-2.86zM5.41 20L4 18.59l7.72-7.72 1.47 1.35L5.41 20z\"/>\n",
              "  </svg>\n",
              "      </button>\n",
              "\n",
              "\n",
              "\n",
              "    <div id=\"df-a9b18f0c-7fb9-4de5-b8fa-53eb9ecd6ff7\">\n",
              "      <button class=\"colab-df-quickchart\" onclick=\"quickchart('df-a9b18f0c-7fb9-4de5-b8fa-53eb9ecd6ff7')\"\n",
              "              title=\"Suggest charts.\"\n",
              "              style=\"display:none;\">\n",
              "\n",
              "<svg xmlns=\"http://www.w3.org/2000/svg\" height=\"24px\"viewBox=\"0 0 24 24\"\n",
              "     width=\"24px\">\n",
              "    <g>\n",
              "        <path d=\"M19 3H5c-1.1 0-2 .9-2 2v14c0 1.1.9 2 2 2h14c1.1 0 2-.9 2-2V5c0-1.1-.9-2-2-2zM9 17H7v-7h2v7zm4 0h-2V7h2v10zm4 0h-2v-4h2v4z\"/>\n",
              "    </g>\n",
              "</svg>\n",
              "      </button>\n",
              "    </div>\n",
              "\n",
              "<style>\n",
              "  .colab-df-quickchart {\n",
              "    background-color: #E8F0FE;\n",
              "    border: none;\n",
              "    border-radius: 50%;\n",
              "    cursor: pointer;\n",
              "    display: none;\n",
              "    fill: #1967D2;\n",
              "    height: 32px;\n",
              "    padding: 0 0 0 0;\n",
              "    width: 32px;\n",
              "  }\n",
              "\n",
              "  .colab-df-quickchart:hover {\n",
              "    background-color: #E2EBFA;\n",
              "    box-shadow: 0px 1px 2px rgba(60, 64, 67, 0.3), 0px 1px 3px 1px rgba(60, 64, 67, 0.15);\n",
              "    fill: #174EA6;\n",
              "  }\n",
              "\n",
              "  [theme=dark] .colab-df-quickchart {\n",
              "    background-color: #3B4455;\n",
              "    fill: #D2E3FC;\n",
              "  }\n",
              "\n",
              "  [theme=dark] .colab-df-quickchart:hover {\n",
              "    background-color: #434B5C;\n",
              "    box-shadow: 0px 1px 3px 1px rgba(0, 0, 0, 0.15);\n",
              "    filter: drop-shadow(0px 1px 2px rgba(0, 0, 0, 0.3));\n",
              "    fill: #FFFFFF;\n",
              "  }\n",
              "</style>\n",
              "\n",
              "    <script>\n",
              "      async function quickchart(key) {\n",
              "        const containerElement = document.querySelector('#' + key);\n",
              "        const charts = await google.colab.kernel.invokeFunction(\n",
              "            'suggestCharts', [key], {});\n",
              "      }\n",
              "    </script>\n",
              "\n",
              "      <script>\n",
              "\n",
              "function displayQuickchartButton(domScope) {\n",
              "  let quickchartButtonEl =\n",
              "    domScope.querySelector('#df-a9b18f0c-7fb9-4de5-b8fa-53eb9ecd6ff7 button.colab-df-quickchart');\n",
              "  quickchartButtonEl.style.display =\n",
              "    google.colab.kernel.accessAllowed ? 'block' : 'none';\n",
              "}\n",
              "\n",
              "        displayQuickchartButton(document);\n",
              "      </script>\n",
              "      <style>\n",
              "    .colab-df-container {\n",
              "      display:flex;\n",
              "      flex-wrap:wrap;\n",
              "      gap: 12px;\n",
              "    }\n",
              "\n",
              "    .colab-df-convert {\n",
              "      background-color: #E8F0FE;\n",
              "      border: none;\n",
              "      border-radius: 50%;\n",
              "      cursor: pointer;\n",
              "      display: none;\n",
              "      fill: #1967D2;\n",
              "      height: 32px;\n",
              "      padding: 0 0 0 0;\n",
              "      width: 32px;\n",
              "    }\n",
              "\n",
              "    .colab-df-convert:hover {\n",
              "      background-color: #E2EBFA;\n",
              "      box-shadow: 0px 1px 2px rgba(60, 64, 67, 0.3), 0px 1px 3px 1px rgba(60, 64, 67, 0.15);\n",
              "      fill: #174EA6;\n",
              "    }\n",
              "\n",
              "    [theme=dark] .colab-df-convert {\n",
              "      background-color: #3B4455;\n",
              "      fill: #D2E3FC;\n",
              "    }\n",
              "\n",
              "    [theme=dark] .colab-df-convert:hover {\n",
              "      background-color: #434B5C;\n",
              "      box-shadow: 0px 1px 3px 1px rgba(0, 0, 0, 0.15);\n",
              "      filter: drop-shadow(0px 1px 2px rgba(0, 0, 0, 0.3));\n",
              "      fill: #FFFFFF;\n",
              "    }\n",
              "  </style>\n",
              "\n",
              "      <script>\n",
              "        const buttonEl =\n",
              "          document.querySelector('#df-768af6b8-5dfa-4647-8ad6-2f4798f48c16 button.colab-df-convert');\n",
              "        buttonEl.style.display =\n",
              "          google.colab.kernel.accessAllowed ? 'block' : 'none';\n",
              "\n",
              "        async function convertToInteractive(key) {\n",
              "          const element = document.querySelector('#df-768af6b8-5dfa-4647-8ad6-2f4798f48c16');\n",
              "          const dataTable =\n",
              "            await google.colab.kernel.invokeFunction('convertToInteractive',\n",
              "                                                     [key], {});\n",
              "          if (!dataTable) return;\n",
              "\n",
              "          const docLinkHtml = 'Like what you see? Visit the ' +\n",
              "            '<a target=\"_blank\" href=https://colab.research.google.com/notebooks/data_table.ipynb>data table notebook</a>'\n",
              "            + ' to learn more about interactive tables.';\n",
              "          element.innerHTML = '';\n",
              "          dataTable['output_type'] = 'display_data';\n",
              "          await google.colab.output.renderOutput(dataTable, element);\n",
              "          const docLink = document.createElement('div');\n",
              "          docLink.innerHTML = docLinkHtml;\n",
              "          element.appendChild(docLink);\n",
              "        }\n",
              "      </script>\n",
              "    </div>\n",
              "  </div>\n"
            ]
          },
          "metadata": {},
          "execution_count": 17
        }
      ]
    },
    {
      "cell_type": "markdown",
      "source": [
        "Using a threshold of 4/n, the datapoints with the above index numbers are influencial"
      ],
      "metadata": {
        "id": "DpehdMh-OeSx"
      }
    },
    {
      "cell_type": "markdown",
      "source": [
        "- Normality of the set of features"
      ],
      "metadata": {
        "id": "4KbTWC6TQTb5"
      }
    },
    {
      "cell_type": "code",
      "source": [
        "# Create a histogram\n",
        "plt.figure(figsize=(8, 4))\n",
        "plt.hist(data, bins=50, density=True, alpha=0.7, edgecolor='red')\n",
        "plt.xlabel('Values')\n",
        "plt.ylabel('Frequency')\n",
        "plt.title('Histogram')\n",
        "plt.show()"
      ],
      "metadata": {
        "colab": {
          "base_uri": "https://localhost:8080/",
          "height": 410
        },
        "id": "g_BmAowKK04N",
        "outputId": "1b47c9ab-3a0e-48a2-a787-8720995d99dd"
      },
      "execution_count": null,
      "outputs": [
        {
          "output_type": "display_data",
          "data": {
            "text/plain": [
              "<Figure size 800x400 with 1 Axes>"
            ],
            "image/png": "[encoded data removed]"
          },
          "metadata": {}
        }
      ]
    },
    {
      "cell_type": "markdown",
      "source": [
        "The histogram above depicts that the dataset is right skewed.i.e Mode < Median < Mean.\n",
        "Since the individual features in a dataset exhibit positive skewness, it suggest that the features are not normally distributed."
      ],
      "metadata": {
        "id": "xuC0bX4PbwUp"
      }
    },
    {
      "cell_type": "markdown",
      "source": [
        "- Data Transformation"
      ],
      "metadata": {
        "id": "NBX_PtRAdj-w"
      }
    },
    {
      "cell_type": "markdown",
      "source": [
        "Log Transformation is performed to reduce the impat of positive skewness, and making the distribution more symmetric."
      ],
      "metadata": {
        "id": "GkJb5MYieSNs"
      }
    },
    {
      "cell_type": "code",
      "source": [
        "#Apply log transformation to the numeric attributes\n",
        "numeric_attributes = data.select_dtypes(include=[np.number])\n",
        "\n",
        "# Apply log transformation to numeric attributes\n",
        "transformed_data = np.log(numeric_attributes)\n",
        "\n",
        "# Replace the original numeric attributes with the transformed values\n",
        "data[numeric_attributes.columns] = transformed_data"
      ],
      "metadata": {
        "colab": {
          "base_uri": "https://localhost:8080/"
        },
        "id": "jHrI--XJcEkd",
        "outputId": "569955c3-5503-4203-8709-1180880f2344"
      },
      "execution_count": null,
      "outputs": [
        {
          "output_type": "stream",
          "name": "stderr",
          "text": [
            "/usr/local/lib/python3.10/dist-packages/pandas/core/internals/blocks.py:351: RuntimeWarning: divide by zero encountered in log\n",
            "  result = func(self.values, **kwargs)\n"
          ]
        }
      ]
    },
    {
      "cell_type": "code",
      "source": [
        "data.head()"
      ],
      "metadata": {
        "colab": {
          "base_uri": "https://localhost:8080/",
          "height": 270
        },
        "id": "17NaiQTbf_Qv",
        "outputId": "ffe3861e-acc1-4a97-a7d3-d554f6c382b7"
      },
      "execution_count": null,
      "outputs": [
        {
          "output_type": "execute_result",
          "data": {
            "text/plain": [
              "  class largest_spot_size spot_distribution  activity  evolution  \\\n",
              "1     H                 A                 X       0.0   1.098612   \n",
              "2     D                 R                 O       0.0   1.098612   \n",
              "3     C                 S                 O       0.0   1.098612   \n",
              "4     H                 R                 X       0.0   0.693147   \n",
              "5     H                 S                 X       0.0   0.000000   \n",
              "\n",
              "   prev_activity_code  historically_complex  became_complex  area  \\\n",
              "1                 0.0                   0.0        0.000000   0.0   \n",
              "2                 0.0                   0.0        0.693147   0.0   \n",
              "3                 0.0                   0.0        0.693147   0.0   \n",
              "4                 0.0                   0.0        0.000000   0.0   \n",
              "5                 0.0                   0.0        0.693147   0.0   \n",
              "\n",
              "   largest_spot_area  C_class  M_class  X_class  \n",
              "1                0.0     -inf     -inf     -inf  \n",
              "2                0.0     -inf     -inf     -inf  \n",
              "3                0.0     -inf     -inf     -inf  \n",
              "4                0.0     -inf     -inf     -inf  \n",
              "5                0.0     -inf     -inf     -inf  "
            ],
            "text/html": [
              "\n",
              "\n",
              "  <div id=\"df-0c24e8b3-50af-4497-a437-2b44e8057b9b\">\n",
              "    <div class=\"colab-df-container\">\n",
              "      <div>\n",
              "<style scoped>\n",
              "    .dataframe tbody tr th:only-of-type {\n",
              "        vertical-align: middle;\n",
              "    }\n",
              "\n",
              "    .dataframe tbody tr th {\n",
              "        vertical-align: top;\n",
              "    }\n",
              "\n",
              "    .dataframe thead th {\n",
              "        text-align: right;\n",
              "    }\n",
              "</style>\n",
              "<table border=\"1\" class=\"dataframe\">\n",
              "  <thead>\n",
              "    <tr style=\"text-align: right;\">\n",
              "      <th></th>\n",
              "      <th>class</th>\n",
              "      <th>largest_spot_size</th>\n",
              "      <th>spot_distribution</th>\n",
              "      <th>activity</th>\n",
              "      <th>evolution</th>\n",
              "      <th>prev_activity_code</th>\n",
              "      <th>historically_complex</th>\n",
              "      <th>became_complex</th>\n",
              "      <th>area</th>\n",
              "      <th>largest_spot_area</th>\n",
              "      <th>C_class</th>\n",
              "      <th>M_class</th>\n",
              "      <th>X_class</th>\n",
              "    </tr>\n",
              "  </thead>\n",
              "  <tbody>\n",
              "    <tr>\n",
              "      <th>1</th>\n",
              "      <td>H</td>\n",
              "      <td>A</td>\n",
              "      <td>X</td>\n",
              "      <td>0.0</td>\n",
              "      <td>1.098612</td>\n",
              "      <td>0.0</td>\n",
              "      <td>0.0</td>\n",
              "      <td>0.000000</td>\n",
              "      <td>0.0</td>\n",
              "      <td>0.0</td>\n",
              "      <td>-inf</td>\n",
              "      <td>-inf</td>\n",
              "      <td>-inf</td>\n",
              "    </tr>\n",
              "    <tr>\n",
              "      <th>2</th>\n",
              "      <td>D</td>\n",
              "      <td>R</td>\n",
              "      <td>O</td>\n",
              "      <td>0.0</td>\n",
              "      <td>1.098612</td>\n",
              "      <td>0.0</td>\n",
              "      <td>0.0</td>\n",
              "      <td>0.693147</td>\n",
              "      <td>0.0</td>\n",
              "      <td>0.0</td>\n",
              "      <td>-inf</td>\n",
              "      <td>-inf</td>\n",
              "      <td>-inf</td>\n",
              "    </tr>\n",
              "    <tr>\n",
              "      <th>3</th>\n",
              "      <td>C</td>\n",
              "      <td>S</td>\n",
              "      <td>O</td>\n",
              "      <td>0.0</td>\n",
              "      <td>1.098612</td>\n",
              "      <td>0.0</td>\n",
              "      <td>0.0</td>\n",
              "      <td>0.693147</td>\n",
              "      <td>0.0</td>\n",
              "      <td>0.0</td>\n",
              "      <td>-inf</td>\n",
              "      <td>-inf</td>\n",
              "      <td>-inf</td>\n",
              "    </tr>\n",
              "    <tr>\n",
              "      <th>4</th>\n",
              "      <td>H</td>\n",
              "      <td>R</td>\n",
              "      <td>X</td>\n",
              "      <td>0.0</td>\n",
              "      <td>0.693147</td>\n",
              "      <td>0.0</td>\n",
              "      <td>0.0</td>\n",
              "      <td>0.000000</td>\n",
              "      <td>0.0</td>\n",
              "      <td>0.0</td>\n",
              "      <td>-inf</td>\n",
              "      <td>-inf</td>\n",
              "      <td>-inf</td>\n",
              "    </tr>\n",
              "    <tr>\n",
              "      <th>5</th>\n",
              "      <td>H</td>\n",
              "      <td>S</td>\n",
              "      <td>X</td>\n",
              "      <td>0.0</td>\n",
              "      <td>0.000000</td>\n",
              "      <td>0.0</td>\n",
              "      <td>0.0</td>\n",
              "      <td>0.693147</td>\n",
              "      <td>0.0</td>\n",
              "      <td>0.0</td>\n",
              "      <td>-inf</td>\n",
              "      <td>-inf</td>\n",
              "      <td>-inf</td>\n",
              "    </tr>\n",
              "  </tbody>\n",
              "</table>\n",
              "</div>\n",
              "      <button class=\"colab-df-convert\" onclick=\"convertToInteractive('df-0c24e8b3-50af-4497-a437-2b44e8057b9b')\"\n",
              "              title=\"Convert this dataframe to an interactive table.\"\n",
              "              style=\"display:none;\">\n",
              "\n",
              "  <svg xmlns=\"http://www.w3.org/2000/svg\" height=\"24px\"viewBox=\"0 0 24 24\"\n",
              "       width=\"24px\">\n",
              "    <path d=\"M0 0h24v24H0V0z\" fill=\"none\"/>\n",
              "    <path d=\"M18.56 5.44l.94 2.06.94-2.06 2.06-.94-2.06-.94-.94-2.06-.94 2.06-2.06.94zm-11 1L8.5 8.5l.94-2.06 2.06-.94-2.06-.94L8.5 2.5l-.94 2.06-2.06.94zm10 10l.94 2.06.94-2.06 2.06-.94-2.06-.94-.94-2.06-.94 2.06-2.06.94z\"/><path d=\"M17.41 7.96l-1.37-1.37c-.4-.4-.92-.59-1.43-.59-.52 0-1.04.2-1.43.59L10.3 9.45l-7.72 7.72c-.78.78-.78 2.05 0 2.83L4 21.41c.39.39.9.59 1.41.59.51 0 1.02-.2 1.41-.59l7.78-7.78 2.81-2.81c.8-.78.8-2.07 0-2.86zM5.41 20L4 18.59l7.72-7.72 1.47 1.35L5.41 20z\"/>\n",
              "  </svg>\n",
              "      </button>\n",
              "\n",
              "\n",
              "\n",
              "    <div id=\"df-f18daff3-85c4-4d4b-898e-dd5077cb5e8a\">\n",
              "      <button class=\"colab-df-quickchart\" onclick=\"quickchart('df-f18daff3-85c4-4d4b-898e-dd5077cb5e8a')\"\n",
              "              title=\"Suggest charts.\"\n",
              "              style=\"display:none;\">\n",
              "\n",
              "<svg xmlns=\"http://www.w3.org/2000/svg\" height=\"24px\"viewBox=\"0 0 24 24\"\n",
              "     width=\"24px\">\n",
              "    <g>\n",
              "        <path d=\"M19 3H5c-1.1 0-2 .9-2 2v14c0 1.1.9 2 2 2h14c1.1 0 2-.9 2-2V5c0-1.1-.9-2-2-2zM9 17H7v-7h2v7zm4 0h-2V7h2v10zm4 0h-2v-4h2v4z\"/>\n",
              "    </g>\n",
              "</svg>\n",
              "      </button>\n",
              "    </div>\n",
              "\n",
              "<style>\n",
              "  .colab-df-quickchart {\n",
              "    background-color: #E8F0FE;\n",
              "    border: none;\n",
              "    border-radius: 50%;\n",
              "    cursor: pointer;\n",
              "    display: none;\n",
              "    fill: #1967D2;\n",
              "    height: 32px;\n",
              "    padding: 0 0 0 0;\n",
              "    width: 32px;\n",
              "  }\n",
              "\n",
              "  .colab-df-quickchart:hover {\n",
              "    background-color: #E2EBFA;\n",
              "    box-shadow: 0px 1px 2px rgba(60, 64, 67, 0.3), 0px 1px 3px 1px rgba(60, 64, 67, 0.15);\n",
              "    fill: #174EA6;\n",
              "  }\n",
              "\n",
              "  [theme=dark] .colab-df-quickchart {\n",
              "    background-color: #3B4455;\n",
              "    fill: #D2E3FC;\n",
              "  }\n",
              "\n",
              "  [theme=dark] .colab-df-quickchart:hover {\n",
              "    background-color: #434B5C;\n",
              "    box-shadow: 0px 1px 3px 1px rgba(0, 0, 0, 0.15);\n",
              "    filter: drop-shadow(0px 1px 2px rgba(0, 0, 0, 0.3));\n",
              "    fill: #FFFFFF;\n",
              "  }\n",
              "</style>\n",
              "\n",
              "    <script>\n",
              "      async function quickchart(key) {\n",
              "        const containerElement = document.querySelector('#' + key);\n",
              "        const charts = await google.colab.kernel.invokeFunction(\n",
              "            'suggestCharts', [key], {});\n",
              "      }\n",
              "    </script>\n",
              "\n",
              "      <script>\n",
              "\n",
              "function displayQuickchartButton(domScope) {\n",
              "  let quickchartButtonEl =\n",
              "    domScope.querySelector('#df-f18daff3-85c4-4d4b-898e-dd5077cb5e8a button.colab-df-quickchart');\n",
              "  quickchartButtonEl.style.display =\n",
              "    google.colab.kernel.accessAllowed ? 'block' : 'none';\n",
              "}\n",
              "\n",
              "        displayQuickchartButton(document);\n",
              "      </script>\n",
              "      <style>\n",
              "    .colab-df-container {\n",
              "      display:flex;\n",
              "      flex-wrap:wrap;\n",
              "      gap: 12px;\n",
              "    }\n",
              "\n",
              "    .colab-df-convert {\n",
              "      background-color: #E8F0FE;\n",
              "      border: none;\n",
              "      border-radius: 50%;\n",
              "      cursor: pointer;\n",
              "      display: none;\n",
              "      fill: #1967D2;\n",
              "      height: 32px;\n",
              "      padding: 0 0 0 0;\n",
              "      width: 32px;\n",
              "    }\n",
              "\n",
              "    .colab-df-convert:hover {\n",
              "      background-color: #E2EBFA;\n",
              "      box-shadow: 0px 1px 2px rgba(60, 64, 67, 0.3), 0px 1px 3px 1px rgba(60, 64, 67, 0.15);\n",
              "      fill: #174EA6;\n",
              "    }\n",
              "\n",
              "    [theme=dark] .colab-df-convert {\n",
              "      background-color: #3B4455;\n",
              "      fill: #D2E3FC;\n",
              "    }\n",
              "\n",
              "    [theme=dark] .colab-df-convert:hover {\n",
              "      background-color: #434B5C;\n",
              "      box-shadow: 0px 1px 3px 1px rgba(0, 0, 0, 0.15);\n",
              "      filter: drop-shadow(0px 1px 2px rgba(0, 0, 0, 0.3));\n",
              "      fill: #FFFFFF;\n",
              "    }\n",
              "  </style>\n",
              "\n",
              "      <script>\n",
              "        const buttonEl =\n",
              "          document.querySelector('#df-0c24e8b3-50af-4497-a437-2b44e8057b9b button.colab-df-convert');\n",
              "        buttonEl.style.display =\n",
              "          google.colab.kernel.accessAllowed ? 'block' : 'none';\n",
              "\n",
              "        async function convertToInteractive(key) {\n",
              "          const element = document.querySelector('#df-0c24e8b3-50af-4497-a437-2b44e8057b9b');\n",
              "          const dataTable =\n",
              "            await google.colab.kernel.invokeFunction('convertToInteractive',\n",
              "                                                     [key], {});\n",
              "          if (!dataTable) return;\n",
              "\n",
              "          const docLinkHtml = 'Like what you see? Visit the ' +\n",
              "            '<a target=\"_blank\" href=https://colab.research.google.com/notebooks/data_table.ipynb>data table notebook</a>'\n",
              "            + ' to learn more about interactive tables.';\n",
              "          element.innerHTML = '';\n",
              "          dataTable['output_type'] = 'display_data';\n",
              "          await google.colab.output.renderOutput(dataTable, element);\n",
              "          const docLink = document.createElement('div');\n",
              "          docLink.innerHTML = docLinkHtml;\n",
              "          element.appendChild(docLink);\n",
              "        }\n",
              "      </script>\n",
              "    </div>\n",
              "  </div>\n"
            ]
          },
          "metadata": {},
          "execution_count": 20
        }
      ]
    },
    {
      "cell_type": "code",
      "source": [
        "inf_mask = np.isinf(transformed_data)\n",
        "\n",
        "# Replace infinite values with a large constant\n",
        "large_constant = 10 * np.max(transformed_data)  # Choose a suitable constant\n",
        "transformed_data = np.where(inf_mask, large_constant, transformed_data)\n",
        "\n",
        "# Replace the original numeric attributes with the transformed values\n",
        "data[numeric_attributes.columns] = transformed_data"
      ],
      "metadata": {
        "colab": {
          "base_uri": "https://localhost:8080/"
        },
        "id": "UqqYfr4nib0Y",
        "outputId": "0231623f-d69e-401b-8d4f-303e3179c59f"
      },
      "execution_count": null,
      "outputs": [
        {
          "output_type": "stream",
          "name": "stderr",
          "text": [
            "/usr/local/lib/python3.10/dist-packages/numpy/core/fromnumeric.py:84: FutureWarning: In a future version, DataFrame.max(axis=None) will return a scalar max over the entire DataFrame. To retain the old behavior, use 'frame.max(axis=0)' or just 'frame.max()'\n",
            "  return reduction(axis=axis, out=out, **passkwargs)\n"
          ]
        }
      ]
    },
    {
      "cell_type": "code",
      "source": [
        "plt.figure(figsize=(8, 4))\n",
        "plt.hist(data, bins=50, density=True, alpha=0.7, edgecolor='red')\n",
        "plt.xlabel('Values')\n",
        "plt.ylabel('Frequency')\n",
        "plt.title('Log Transformed Dataset')\n",
        "plt.show()"
      ],
      "metadata": {
        "colab": {
          "base_uri": "https://localhost:8080/",
          "height": 410
        },
        "id": "tGUsNExTj3PV",
        "outputId": "c84a0734-c165-4d66-a7bd-36bf7f699ddc"
      },
      "execution_count": null,
      "outputs": [
        {
          "output_type": "display_data",
          "data": {
            "text/plain": [
              "<Figure size 800x400 with 1 Axes>"
            ],
            "image/png": "[encoded data removed]"
          },
          "metadata": {}
        }
      ]
    },
    {
      "cell_type": "markdown",
      "source": [
        "- Feature Selection"
      ],
      "metadata": {
        "id": "gdhhrh2xdoJO"
      }
    },
    {
      "cell_type": "markdown",
      "source": [
        "For our regression task, we use univariate feature selection. It assess the statistical significance or mutual information between each feature and target variable."
      ],
      "metadata": {
        "id": "NUY3VmvElDWe"
      }
    },
    {
      "cell_type": "code",
      "source": [
        "# Preprocess object attributes with one-hot encoding\n",
        "X_encoded = pd.get_dummies(X, columns=['largest_spot_size', 'spot_distribution'])\n",
        "\n",
        "# Encoding the target variable y\n",
        "le = LabelEncoder()\n",
        "y_encoded = le.fit_transform(y)\n",
        "\n",
        "# Number of top features to select\n",
        "k = 7\n",
        "\n",
        "#select the best features\n",
        "selector = SelectKBest(score_func=f_regression, k=k)\n",
        "X_new = selector.fit_transform(X_encoded, y_encoded)\n",
        "\n",
        "# Get the selected feature indices\n",
        "selected_feature_indices = selector.get_support(indices=True)"
      ],
      "metadata": {
        "id": "vMSJolFodqmg"
      },
      "execution_count": null,
      "outputs": []
    },
    {
      "cell_type": "code",
      "source": [
        "# Get the column names of the selected features\n",
        "selected_features = X_encoded.columns[selected_feature_indices]\n",
        "\n",
        "# Print the selected feature names\n",
        "print(\"Selected features are:\")\n",
        "print(selected_features)"
      ],
      "metadata": {
        "colab": {
          "base_uri": "https://localhost:8080/"
        },
        "id": "HiZz45EOlsBk",
        "outputId": "0430e670-b614-4e81-f9d3-a4e0ff2b5d69"
      },
      "execution_count": null,
      "outputs": [
        {
          "output_type": "stream",
          "name": "stdout",
          "text": [
            "Selected features are:\n",
            "Index(['evolution', 'became_complex', 'largest_spot_size_4',\n",
            "       'largest_spot_size_5', 'spot_distribution_1', 'spot_distribution_2',\n",
            "       'spot_distribution_3'],\n",
            "      dtype='object')\n"
          ]
        }
      ]
    },
    {
      "cell_type": "markdown",
      "source": [
        "Data Balance"
      ],
      "metadata": {
        "id": "88MKLu0qn3My"
      }
    },
    {
      "cell_type": "code",
      "source": [
        "#Observe class counts\n",
        "class_counts = y.value_counts()\n",
        "class_counts.plot(kind='bar')"
      ],
      "metadata": {
        "colab": {
          "base_uri": "https://localhost:8080/",
          "height": 444
        },
        "id": "cOPJ5M2qn66Q",
        "outputId": "635a2477-6f50-414a-9545-6a424d6725bf"
      },
      "execution_count": null,
      "outputs": [
        {
          "output_type": "execute_result",
          "data": {
            "text/plain": [
              "<Axes: >"
            ]
          },
          "metadata": {},
          "execution_count": 25
        },
        {
          "output_type": "display_data",
          "data": {
            "text/plain": [
              "<Figure size 640x480 with 1 Axes>"
            ],
            "image/png": "[encoded data removed]"
          },
          "metadata": {}
        }
      ]
    },
    {
      "cell_type": "code",
      "source": [
        "#Calculate proportion of each class\n",
        "class_proportions = class_counts / len(y)\n",
        "\n",
        "# Determine if the dataset is balanced based on a threshold\n",
        "balance_threshold = 0.8\n",
        "\n",
        "# Check if the dataset is balanced\n",
        "is_balanced = all(prop >= balance_threshold for prop in class_proportions)\n",
        "\n",
        "# Print the class proportions and the balance status\n",
        "print(\"Class Proportions:\", )\n",
        "print(class_proportions)"
      ],
      "metadata": {
        "colab": {
          "base_uri": "https://localhost:8080/"
        },
        "id": "pbRTQodxtPk3",
        "outputId": "84b890fa-c799-4500-e99a-fce08dd9af84"
      },
      "execution_count": null,
      "outputs": [
        {
          "output_type": "stream",
          "name": "stdout",
          "text": [
            "Class Proportions:\n",
            "H    0.310507\n",
            "D    0.224203\n",
            "C    0.197936\n",
            "B    0.137899\n",
            "E    0.089118\n",
            "F    0.040338\n",
            "Name: class, dtype: float64\n"
          ]
        }
      ]
    },
    {
      "cell_type": "markdown",
      "source": [
        "From the above results, the dataset is not balanced, since the proportion of instances for class H is greater than the rest.\n",
        "Oversampling technique such as SMOTE is used on the dataset."
      ],
      "metadata": {
        "id": "mj58JrRFqGIp"
      }
    },
    {
      "cell_type": "code",
      "source": [
        "#Apply SMOTE oversampling\n",
        "smote = SMOTE(random_state=42)\n",
        "X_oversampled, y_oversampled = smote.fit_resample(X_encoded, y_encoded)"
      ],
      "metadata": {
        "id": "cJa5HaW3rTAP"
      },
      "execution_count": null,
      "outputs": []
    },
    {
      "cell_type": "code",
      "source": [
        "# Check the class distribution after oversampling\n",
        "class_counts_oversampled = pd.Series(y_oversampled).value_counts()\n",
        "class_counts_oversampled.plot(kind='bar')"
      ],
      "metadata": {
        "colab": {
          "base_uri": "https://localhost:8080/",
          "height": 442
        },
        "id": "B1qHu0SMtApI",
        "outputId": "ab45a073-0493-4070-e382-e7d6ddacb1ce"
      },
      "execution_count": null,
      "outputs": [
        {
          "output_type": "execute_result",
          "data": {
            "text/plain": [
              "<Axes: >"
            ]
          },
          "metadata": {},
          "execution_count": 28
        },
        {
          "output_type": "display_data",
          "data": {
            "text/plain": [
              "<Figure size 640x480 with 1 Axes>"
            ],
            "image/png": "[encoded data removed]"
          },
          "metadata": {}
        }
      ]
    },
    {
      "cell_type": "markdown",
      "source": [
        "##Model Training\n",
        "- Will be using two different regression algorithms"
      ],
      "metadata": {
        "id": "DOjCRtvntY7v"
      }
    },
    {
      "cell_type": "markdown",
      "source": [
        "- Linear Regression\n",
        "  - Percentage Split"
      ],
      "metadata": {
        "id": "CYc5CPAItd33"
      }
    },
    {
      "cell_type": "code",
      "source": [
        "#Perform Data Splitting\n",
        "X_train, X_test, y_train, y_test = train_test_split(X_oversampled, y_oversampled, test_size=0.3, random_state=1)"
      ],
      "metadata": {
        "id": "Z2u01h9o7QJF"
      },
      "execution_count": null,
      "outputs": []
    },
    {
      "cell_type": "code",
      "source": [
        "#Instantiate the Linear Regression Model\n",
        "linear_model = LinearRegression()"
      ],
      "metadata": {
        "id": "EVsWcqyrtDWJ"
      },
      "execution_count": null,
      "outputs": []
    },
    {
      "cell_type": "code",
      "source": [
        "#fit the model to linear regressor\n",
        "linear_model.fit(X_train, y_train)"
      ],
      "metadata": {
        "colab": {
          "base_uri": "https://localhost:8080/",
          "height": 75
        },
        "id": "WUIq1_ho52J1",
        "outputId": "ac069c32-be98-4930-db7a-e3fd2b8c1db9"
      },
      "execution_count": null,
      "outputs": [
        {
          "output_type": "execute_result",
          "data": {
            "text/plain": [
              "LinearRegression()"
            ],
            "text/html": [
              "<style>#sk-container-id-1 {color: black;background-color: white;}#sk-container-id-1 pre{padding: 0;}#sk-container-id-1 div.sk-toggleable {background-color: white;}#sk-container-id-1 label.sk-toggleable__label {cursor: pointer;display: block;width: 100%;margin-bottom: 0;padding: 0.3em;box-sizing: border-box;text-align: center;}#sk-container-id-1 label.sk-toggleable__label-arrow:before {content: \"▸\";float: left;margin-right: 0.25em;color: #696969;}#sk-container-id-1 label.sk-toggleable__label-arrow:hover:before {color: black;}#sk-container-id-1 div.sk-estimator:hover label.sk-toggleable__label-arrow:before {color: black;}#sk-container-id-1 div.sk-toggleable__content {max-height: 0;max-width: 0;overflow: hidden;text-align: left;background-color: #f0f8ff;}#sk-container-id-1 div.sk-toggleable__content pre {margin: 0.2em;color: black;border-radius: 0.25em;background-color: #f0f8ff;}#sk-container-id-1 input.sk-toggleable__control:checked~div.sk-toggleable__content {max-height: 200px;max-width: 100%;overflow: auto;}#sk-container-id-1 input.sk-toggleable__control:checked~label.sk-toggleable__label-arrow:before {content: \"▾\";}#sk-container-id-1 div.sk-estimator input.sk-toggleable__control:checked~label.sk-toggleable__label {background-color: #d4ebff;}#sk-container-id-1 div.sk-label input.sk-toggleable__control:checked~label.sk-toggleable__label {background-color: #d4ebff;}#sk-container-id-1 input.sk-hidden--visually {border: 0;clip: rect(1px 1px 1px 1px);clip: rect(1px, 1px, 1px, 1px);height: 1px;margin: -1px;overflow: hidden;padding: 0;position: absolute;width: 1px;}#sk-container-id-1 div.sk-estimator {font-family: monospace;background-color: #f0f8ff;border: 1px dotted black;border-radius: 0.25em;box-sizing: border-box;margin-bottom: 0.5em;}#sk-container-id-1 div.sk-estimator:hover {background-color: #d4ebff;}#sk-container-id-1 div.sk-parallel-item::after {content: \"\";width: 100%;border-bottom: 1px solid gray;flex-grow: 1;}#sk-container-id-1 div.sk-label:hover label.sk-toggleable__label {background-color: #d4ebff;}#sk-container-id-1 div.sk-serial::before {content: \"\";position: absolute;border-left: 1px solid gray;box-sizing: border-box;top: 0;bottom: 0;left: 50%;z-index: 0;}#sk-container-id-1 div.sk-serial {display: flex;flex-direction: column;align-items: center;background-color: white;padding-right: 0.2em;padding-left: 0.2em;position: relative;}#sk-container-id-1 div.sk-item {position: relative;z-index: 1;}#sk-container-id-1 div.sk-parallel {display: flex;align-items: stretch;justify-content: center;background-color: white;position: relative;}#sk-container-id-1 div.sk-item::before, #sk-container-id-1 div.sk-parallel-item::before {content: \"\";position: absolute;border-left: 1px solid gray;box-sizing: border-box;top: 0;bottom: 0;left: 50%;z-index: -1;}#sk-container-id-1 div.sk-parallel-item {display: flex;flex-direction: column;z-index: 1;position: relative;background-color: white;}#sk-container-id-1 div.sk-parallel-item:first-child::after {align-self: flex-end;width: 50%;}#sk-container-id-1 div.sk-parallel-item:last-child::after {align-self: flex-start;width: 50%;}#sk-container-id-1 div.sk-parallel-item:only-child::after {width: 0;}#sk-container-id-1 div.sk-dashed-wrapped {border: 1px dashed gray;margin: 0 0.4em 0.5em 0.4em;box-sizing: border-box;padding-bottom: 0.4em;background-color: white;}#sk-container-id-1 div.sk-label label {font-family: monospace;font-weight: bold;display: inline-block;line-height: 1.2em;}#sk-container-id-1 div.sk-label-container {text-align: center;}#sk-container-id-1 div.sk-container {/* jupyter's `normalize.less` sets `[hidden] { display: none; }` but bootstrap.min.css set `[hidden] { display: none !important; }` so we also need the `!important` here to be able to override the default hidden behavior on the sphinx rendered scikit-learn.org. See: https://github.com/scikit-learn/scikit-learn/issues/21755 */display: inline-block !important;position: relative;}#sk-container-id-1 div.sk-text-repr-fallback {display: none;}</style><div id=\"sk-container-id-1\" class=\"sk-top-container\"><div class=\"sk-text-repr-fallback\"><pre>LinearRegression()</pre><b>In a Jupyter environment, please rerun this cell to show the HTML representation or trust the notebook. <br />On GitHub, the HTML representation is unable to render, please try loading this page with nbviewer.org.</b></div><div class=\"sk-container\" hidden><div class=\"sk-item\"><div class=\"sk-estimator sk-toggleable\"><input class=\"sk-toggleable__control sk-hidden--visually\" id=\"sk-estimator-id-1\" type=\"checkbox\" checked><label for=\"sk-estimator-id-1\" class=\"sk-toggleable__label sk-toggleable__label-arrow\">LinearRegression</label><div class=\"sk-toggleable__content\"><pre>LinearRegression()</pre></div></div></div></div></div>"
            ]
          },
          "metadata": {},
          "execution_count": 31
        }
      ]
    },
    {
      "cell_type": "code",
      "source": [
        "#Make predictions\n",
        "y_linear_pred = linear_model.predict(X_test)\n",
        "\n",
        "#Calculate the MSE\n",
        "mse = np.mean((y_test - y_linear_pred) ** 2)\n",
        "\n",
        "# Calculate the average MSE across all folds\n",
        "avg_mse = np.mean(mse)\n",
        "\n",
        "# Print the MSE scores and the average MSE\n",
        "print(\"MSE scores:\", mse)\n",
        "print(\"Average MSE:\", avg_mse)"
      ],
      "metadata": {
        "colab": {
          "base_uri": "https://localhost:8080/"
        },
        "id": "98lqDk427YpT",
        "outputId": "4120d233-8853-4072-bbaf-eeec57f574b0"
      },
      "execution_count": null,
      "outputs": [
        {
          "output_type": "stream",
          "name": "stdout",
          "text": [
            "MSE scores: 0.38703161020665466\n",
            "Average MSE: 0.38703161020665466\n"
          ]
        }
      ]
    },
    {
      "cell_type": "markdown",
      "source": [
        "  - K- fold Cross Validation"
      ],
      "metadata": {
        "id": "BrsgAxLf7_IJ"
      }
    },
    {
      "cell_type": "code",
      "source": [
        "#Inintialze CV instance\n",
        "cv = KFold(n_splits=5, random_state=1, shuffle=True)"
      ],
      "metadata": {
        "id": "mlFY7CEt7fdq"
      },
      "execution_count": null,
      "outputs": []
    },
    {
      "cell_type": "code",
      "source": [
        "#Use k-fold to evaluate the model\n",
        "scores = cross_val_score(linear_model, X_train, y_train, scoring='neg_mean_squared_error', cv=cv, n_jobs=-1)\n",
        "print(np.mean(-scores))"
      ],
      "metadata": {
        "colab": {
          "base_uri": "https://localhost:8080/"
        },
        "id": "rhwJqcOIA5y8",
        "outputId": "84c22485-d140-4452-e312-277c7e8dab37"
      },
      "execution_count": null,
      "outputs": [
        {
          "output_type": "stream",
          "name": "stdout",
          "text": [
            "0.4201641519389713\n"
          ]
        }
      ]
    },
    {
      "cell_type": "markdown",
      "source": [
        "- Leave one out cross validation"
      ],
      "metadata": {
        "id": "-Szc5mC18E7z"
      }
    },
    {
      "cell_type": "code",
      "source": [
        "#instantiate the Leave-one-out model\n",
        "cv_leave = LeaveOneOut()\n",
        "\n",
        "#evaluate the model with LOOCV\n",
        "scores = cross_val_score(linear_model, X_train, y_train, scoring='neg_mean_squared_error', cv=cv_leave, n_jobs=-1)\n",
        "print(np.mean(-scores))"
      ],
      "metadata": {
        "colab": {
          "base_uri": "https://localhost:8080/"
        },
        "id": "ZUXdF480C8_r",
        "outputId": "1542341f-8abb-469e-fd19-be050199e2bb"
      },
      "execution_count": null,
      "outputs": [
        {
          "output_type": "stream",
          "name": "stdout",
          "text": [
            "0.4204522637146481\n"
          ]
        }
      ]
    },
    {
      "cell_type": "markdown",
      "source": [
        "- Decison Tree Regression\n",
        "   - Percentage Split"
      ],
      "metadata": {
        "id": "tcVQ-VbSD9fx"
      }
    },
    {
      "cell_type": "code",
      "source": [
        "#instantiate the decision tree regressor\n",
        "tree_regressor = DecisionTreeRegressor()"
      ],
      "metadata": {
        "id": "KIkDXoRDEA7k"
      },
      "execution_count": null,
      "outputs": []
    },
    {
      "cell_type": "code",
      "source": [
        "tree_regressor.fit(X_train, y_train)"
      ],
      "metadata": {
        "colab": {
          "base_uri": "https://localhost:8080/",
          "height": 75
        },
        "id": "TUo5q2n9ETqq",
        "outputId": "f1aa9b00-0447-406a-d203-dec034ff1071"
      },
      "execution_count": null,
      "outputs": [
        {
          "output_type": "execute_result",
          "data": {
            "text/plain": [
              "DecisionTreeRegressor()"
            ],
            "text/html": [
              "<style>#sk-container-id-2 {color: black;background-color: white;}#sk-container-id-2 pre{padding: 0;}#sk-container-id-2 div.sk-toggleable {background-color: white;}#sk-container-id-2 label.sk-toggleable__label {cursor: pointer;display: block;width: 100%;margin-bottom: 0;padding: 0.3em;box-sizing: border-box;text-align: center;}#sk-container-id-2 label.sk-toggleable__label-arrow:before {content: \"▸\";float: left;margin-right: 0.25em;color: #696969;}#sk-container-id-2 label.sk-toggleable__label-arrow:hover:before {color: black;}#sk-container-id-2 div.sk-estimator:hover label.sk-toggleable__label-arrow:before {color: black;}#sk-container-id-2 div.sk-toggleable__content {max-height: 0;max-width: 0;overflow: hidden;text-align: left;background-color: #f0f8ff;}#sk-container-id-2 div.sk-toggleable__content pre {margin: 0.2em;color: black;border-radius: 0.25em;background-color: #f0f8ff;}#sk-container-id-2 input.sk-toggleable__control:checked~div.sk-toggleable__content {max-height: 200px;max-width: 100%;overflow: auto;}#sk-container-id-2 input.sk-toggleable__control:checked~label.sk-toggleable__label-arrow:before {content: \"▾\";}#sk-container-id-2 div.sk-estimator input.sk-toggleable__control:checked~label.sk-toggleable__label {background-color: #d4ebff;}#sk-container-id-2 div.sk-label input.sk-toggleable__control:checked~label.sk-toggleable__label {background-color: #d4ebff;}#sk-container-id-2 input.sk-hidden--visually {border: 0;clip: rect(1px 1px 1px 1px);clip: rect(1px, 1px, 1px, 1px);height: 1px;margin: -1px;overflow: hidden;padding: 0;position: absolute;width: 1px;}#sk-container-id-2 div.sk-estimator {font-family: monospace;background-color: #f0f8ff;border: 1px dotted black;border-radius: 0.25em;box-sizing: border-box;margin-bottom: 0.5em;}#sk-container-id-2 div.sk-estimator:hover {background-color: #d4ebff;}#sk-container-id-2 div.sk-parallel-item::after {content: \"\";width: 100%;border-bottom: 1px solid gray;flex-grow: 1;}#sk-container-id-2 div.sk-label:hover label.sk-toggleable__label {background-color: #d4ebff;}#sk-container-id-2 div.sk-serial::before {content: \"\";position: absolute;border-left: 1px solid gray;box-sizing: border-box;top: 0;bottom: 0;left: 50%;z-index: 0;}#sk-container-id-2 div.sk-serial {display: flex;flex-direction: column;align-items: center;background-color: white;padding-right: 0.2em;padding-left: 0.2em;position: relative;}#sk-container-id-2 div.sk-item {position: relative;z-index: 1;}#sk-container-id-2 div.sk-parallel {display: flex;align-items: stretch;justify-content: center;background-color: white;position: relative;}#sk-container-id-2 div.sk-item::before, #sk-container-id-2 div.sk-parallel-item::before {content: \"\";position: absolute;border-left: 1px solid gray;box-sizing: border-box;top: 0;bottom: 0;left: 50%;z-index: -1;}#sk-container-id-2 div.sk-parallel-item {display: flex;flex-direction: column;z-index: 1;position: relative;background-color: white;}#sk-container-id-2 div.sk-parallel-item:first-child::after {align-self: flex-end;width: 50%;}#sk-container-id-2 div.sk-parallel-item:last-child::after {align-self: flex-start;width: 50%;}#sk-container-id-2 div.sk-parallel-item:only-child::after {width: 0;}#sk-container-id-2 div.sk-dashed-wrapped {border: 1px dashed gray;margin: 0 0.4em 0.5em 0.4em;box-sizing: border-box;padding-bottom: 0.4em;background-color: white;}#sk-container-id-2 div.sk-label label {font-family: monospace;font-weight: bold;display: inline-block;line-height: 1.2em;}#sk-container-id-2 div.sk-label-container {text-align: center;}#sk-container-id-2 div.sk-container {/* jupyter's `normalize.less` sets `[hidden] { display: none; }` but bootstrap.min.css set `[hidden] { display: none !important; }` so we also need the `!important` here to be able to override the default hidden behavior on the sphinx rendered scikit-learn.org. See: https://github.com/scikit-learn/scikit-learn/issues/21755 */display: inline-block !important;position: relative;}#sk-container-id-2 div.sk-text-repr-fallback {display: none;}</style><div id=\"sk-container-id-2\" class=\"sk-top-container\"><div class=\"sk-text-repr-fallback\"><pre>DecisionTreeRegressor()</pre><b>In a Jupyter environment, please rerun this cell to show the HTML representation or trust the notebook. <br />On GitHub, the HTML representation is unable to render, please try loading this page with nbviewer.org.</b></div><div class=\"sk-container\" hidden><div class=\"sk-item\"><div class=\"sk-estimator sk-toggleable\"><input class=\"sk-toggleable__control sk-hidden--visually\" id=\"sk-estimator-id-2\" type=\"checkbox\" checked><label for=\"sk-estimator-id-2\" class=\"sk-toggleable__label sk-toggleable__label-arrow\">DecisionTreeRegressor</label><div class=\"sk-toggleable__content\"><pre>DecisionTreeRegressor()</pre></div></div></div></div></div>"
            ]
          },
          "metadata": {},
          "execution_count": 37
        }
      ]
    },
    {
      "cell_type": "code",
      "source": [
        "#Make predictions\n",
        "y_tree_pred = tree_regressor.predict(X_test)\n",
        "\n",
        "#Calculate the MSE\n",
        "mse = np.mean((y_test - y_tree_pred) ** 2)\n",
        "\n",
        "# Calculate the average MSE across all folds\n",
        "avg_mse = np.mean(mse)\n",
        "\n",
        "# Print the MSE scores and the average MSE\n",
        "print(\"MSE scores:\", mse)\n",
        "print(\"Average MSE:\", avg_mse)"
      ],
      "metadata": {
        "colab": {
          "base_uri": "https://localhost:8080/"
        },
        "id": "n_71B4exFUud",
        "outputId": "c8905973-e5f2-4934-aad4-a0f00dc03c76"
      },
      "execution_count": null,
      "outputs": [
        {
          "output_type": "stream",
          "name": "stdout",
          "text": [
            "MSE scores: 0.27684992654638224\n",
            "Average MSE: 0.27684992654638224\n"
          ]
        }
      ]
    },
    {
      "cell_type": "markdown",
      "source": [
        "  - K- fold Cross Validation"
      ],
      "metadata": {
        "id": "nnpgCh-DFmgU"
      }
    },
    {
      "cell_type": "code",
      "source": [
        "#Inintialze CV instance\n",
        "cv = KFold(n_splits=5, random_state=1, shuffle=True)\n",
        "\n",
        "#Use k-fold to evaluate the model\n",
        "scores = cross_val_score(tree_regressor, X_train, y_train, scoring='neg_mean_squared_error', cv=cv, n_jobs=-1)\n",
        "print(np.mean(-scores))"
      ],
      "metadata": {
        "colab": {
          "base_uri": "https://localhost:8080/"
        },
        "id": "pj2M5rruFp53",
        "outputId": "f76df587-65bd-4c64-b2b2-366db88c15ed"
      },
      "execution_count": null,
      "outputs": [
        {
          "output_type": "stream",
          "name": "stdout",
          "text": [
            "0.39998910309371566\n"
          ]
        }
      ]
    },
    {
      "cell_type": "markdown",
      "source": [
        " - Leave-one-out cross validation"
      ],
      "metadata": {
        "id": "J08TMeo1GHgY"
      }
    },
    {
      "cell_type": "code",
      "source": [
        "#instantiate the Leave-one-out model\n",
        "cv_leave = LeaveOneOut()\n",
        "\n",
        "#evaluate the model with LOOCV\n",
        "scores = cross_val_score(tree_regressor, X_train, y_train, scoring='neg_mean_squared_error', cv=cv_leave, n_jobs=-1)\n",
        "print(np.mean(-scores))"
      ],
      "metadata": {
        "colab": {
          "base_uri": "https://localhost:8080/"
        },
        "id": "c_7vTbxdF7MT",
        "outputId": "0b1a04e9-8dd4-4d47-dd6f-fba7f038089f"
      },
      "execution_count": null,
      "outputs": [
        {
          "output_type": "stream",
          "name": "stdout",
          "text": [
            "0.3762518122130814\n"
          ]
        }
      ]
    },
    {
      "cell_type": "markdown",
      "source": [
        "From both regression models, DecisonTree Regressor performs better since the model evaluation resulted in a lower MSE score.\n",
        "- As well as Leave-one-out is better that K-fold cross validation for DecisionTree Regressor, but the opposite for Linear Regressor"
      ],
      "metadata": {
        "id": "WINYi2hFGVQh"
      }
    },
    {
      "cell_type": "markdown",
      "source": [
        "##Info-Visualization"
      ],
      "metadata": {
        "id": "CrsNU0GXJhPG"
      }
    },
    {
      "cell_type": "markdown",
      "source": [
        "A scatter plot to visualize the predictions against teh actual values.\n",
        "  - Linear Regression"
      ],
      "metadata": {
        "id": "5N9SdflEJmQ2"
      }
    },
    {
      "cell_type": "code",
      "source": [
        "# Generate color values based on predicted values\n",
        "color_values = y_linear_pred\n",
        "\n",
        "#plot the scatter plot\n",
        "plt.scatter(y_linear_pred, y_test, c=color_values, cmap='viridis')\n",
        "\n",
        "# Add colorbar\n",
        "plt.colorbar()\n",
        "\n",
        "# Add labels and title\n",
        "plt.xlabel('Predicted Values')\n",
        "plt.ylabel('Actual Values')\n",
        "plt.title('Scatter Plot of Predictions')\n",
        "\n",
        "# Display the plot\n",
        "plt.show()"
      ],
      "metadata": {
        "colab": {
          "base_uri": "https://localhost:8080/",
          "height": 472
        },
        "id": "i20WGovDG7NF",
        "outputId": "1c57ca7f-9ffd-4368-ca59-c252d1cd8ae4"
      },
      "execution_count": null,
      "outputs": [
        {
          "output_type": "display_data",
          "data": {
            "text/plain": [
              "<Figure size 640x480 with 2 Axes>"
            ],
            "image/png": "[encoded data removed]"
          },
          "metadata": {}
        }
      ]
    },
    {
      "cell_type": "markdown",
      "source": [
        "- Decision Tree Regressor"
      ],
      "metadata": {
        "id": "V9XM8DdYKFbY"
      }
    },
    {
      "cell_type": "code",
      "source": [
        "# Generate color values based on predicted values\n",
        "color_values = y_tree_pred\n",
        "\n",
        "#plot the scatter plot\n",
        "plt.scatter(y_tree_pred, y_test, c=color_values, cmap='viridis')\n",
        "\n",
        "# Add colorbar\n",
        "plt.colorbar()\n",
        "\n",
        "# Add labels and title\n",
        "plt.xlabel('Predicted Values')\n",
        "plt.ylabel('Actual Values')\n",
        "plt.title('Scatter Plot of Predictions')\n",
        "\n",
        "# Display the plot\n",
        "plt.show()"
      ],
      "metadata": {
        "colab": {
          "base_uri": "https://localhost:8080/",
          "height": 472
        },
        "id": "0469EOQ6GPtZ",
        "outputId": "52726c70-bf32-4743-8e98-9619963c008d"
      },
      "execution_count": null,
      "outputs": [
        {
          "output_type": "display_data",
          "data": {
            "text/plain": [
              "<Figure size 640x480 with 2 Axes>"
            ],
            "image/png": "[encoded data removed]"
          },
          "metadata": {}
        }
      ]
    },
    {
      "cell_type": "markdown",
      "source": [
        "##HAPPY HACKING!!!! 🔥 🔥"
      ],
      "metadata": {
        "id": "m1_jWbEUN1bW"
      }
    }
  ]
}